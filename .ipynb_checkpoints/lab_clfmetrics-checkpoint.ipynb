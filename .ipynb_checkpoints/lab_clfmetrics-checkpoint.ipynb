{
 "cells": [
  {
   "cell_type": "markdown",
   "metadata": {},
   "source": [
    "# Classification, Probabilities, and the Confusion Matrix"
   ]
  },
  {
   "cell_type": "code",
   "execution_count": 2,
   "metadata": {},
   "outputs": [],
   "source": [
    "%matplotlib inline\n",
    "import numpy as np\n",
    "import scipy as sp\n",
    "import matplotlib as mpl\n",
    "import matplotlib.cm as cm\n",
    "import matplotlib.pyplot as plt\n",
    "import pandas as pd\n",
    "import seaborn.apionly as sns"
   ]
  },
  {
   "cell_type": "markdown",
   "metadata": {},
   "source": [
    "We are going to encapsulate some code into handy-dandy functions that we can use for easier model training using cross-validation"
   ]
  },
  {
   "cell_type": "code",
   "execution_count": 101,
   "metadata": {},
   "outputs": [],
   "source": [
    "from sklearn.model_selection import GridSearchCV\n",
    "from sklearn.model_selection import train_test_split\n",
    "from sklearn.preprocessing import StandardScaler\n",
    "from sklearn.metrics import confusion_matrix\n",
    "def cv_optimize(clf, parameters, X, y, n_jobs=1, n_folds=5, score_func=None):\n",
    "    if score_func:\n",
    "        gs = GridSearchCV(clf, param_grid=parameters, cv=n_folds, n_jobs=n_jobs, scoring=score_func)\n",
    "    else:\n",
    "        gs = GridSearchCV(clf, param_grid=parameters, n_jobs=n_jobs, cv=n_folds)\n",
    "    gs.fit(X, y)\n",
    "    print(\"BEST\", gs.best_params_, gs.best_score_)\n",
    "    best = gs.best_estimator_\n",
    "    return best\n",
    "def do_classify(clf, parameters, indf, featurenames, targetname, target1val,mode=\"mask\", reuse_split=None, score_func=None, n_folds=5, n_jobs=1):\n",
    "    \"\"\"\n",
    "    Classification made simple (or is it more complex?)\n",
    "    THIS WORKS FOR 2 Class Classification problems only\n",
    "    parameters: parameter grid in the sklearn style\n",
    "    indf: dataframe you feed in\n",
    "    featurenames: list of columnames corresponding to features you want in your model\n",
    "    targetname: the column you want to use as target\n",
    "    target1val: the value of the \"targetname\" column\n",
    "    mode: mask or split. mask a boolean mask to choose train/test or\n",
    "        split a dictionary with keys Xtrain/Xtest/ytrain/ytest and values existing\n",
    "        training and test sets in the canonical form\n",
    "    reuse_split: the actual mask above or the actuall ditionary, depending upon which\n",
    "        modu you chose\n",
    "    score_func: this is from GridSearchCV\n",
    "    n_folds: cross val folds\n",
    "    n_jobs: mumber of processes to use in cross-validation\n",
    "    \n",
    "    We return classifier, and the train and test sets. We print accuracies\n",
    "    and the confusion matrix\n",
    "    \"\"\"\n",
    "    subdf=indf[featurenames]\n",
    "    X=subdf.values\n",
    "    y=(indf[targetname].values==target1val)*1\n",
    "    if mode==\"mask\":\n",
    "        print(\"using mask\")\n",
    "        mask=reuse_split\n",
    "        Xtrain, Xtest, ytrain, ytest = X[mask], X[~mask], y[mask], y[~mask]\n",
    "    else:\n",
    "        print(\"using reuse split\")\n",
    "        Xtrain, Xtest, ytrain, ytest = reuse_split['Xtrain'], reuse_split['Xtest'], reuse_split['ytrain'], reuse_split['ytest']\n",
    "    ss = StandardScaler().fit(Xtrain)#make sure you only use xtrain to get mean and std. deviation otherwise we leak test data \n",
    "    Xtrain = ss.transform(Xtrain)\n",
    "    Xtest = ss.tansform(Xtest)\n",
    "    if parameters:\n",
    "        clf = cv_optimize(clf, parameters, Xtrain, ytrain, n_jobs=n_jobs, n_folds=n_folds, score_func=score_func)\n",
    "    clf=clf.fit(Xtrain, ytrain)\n",
    "    training_accuracy = clf.score(Xtrain, ytrain)\n",
    "    test_accuracy = clf.score(Xtest, ytest)\n",
    "    print(\"############# based on standard predict ################\")\n",
    "    print(\"Accuracy on training data: %0.2f\" % (training_accuracy))\n",
    "    print(\"Accuracy on test data:     %0.2f\" % (test_accuracy))\n",
    "    print(confusion_matrix(ytest, clf.predict(Xtest)))\n",
    "    print(\"########################################################\")\n",
    "    return clf, Xtrain, ytrain, Xtest, ytest"
   ]
  },
  {
   "cell_type": "code",
   "execution_count": 4,
   "metadata": {},
   "outputs": [],
   "source": [
    "from matplotlib.colors import ListedColormap\n",
    "cmap_light = ListedColormap(['#FFAAAA', '#AAFFAA', '#AAAAFF'])\n",
    "cmap_bold = ListedColormap(['#FF0000', '#00FF00', '#0000FF'])\n",
    "cm = plt.cm.RdBu\n",
    "cm_bright = ListedColormap(['#FF0000', '#0000FF'])\n",
    "\n",
    "def points_plot(ax, Xtr, Xte, ytr, yte, clf, mesh=True, colorscale=cmap_light, cdiscrete=cmap_bold, alpha=0.3, psize=10, zfunc=False):\n",
    "    h = .02\n",
    "    X=np.concatenate((Xtr, Xte))\n",
    "    x_min, x_max = X[:, 0].min() - .5, X[:, 0].max() + .5\n",
    "    y_min, y_max = X[:, 1].min() - .5, X[:, 1].max() + .5\n",
    "    xx, yy = np.meshgrid(np.linspace(x_min, x_max, 100),\n",
    "                         np.linspace(y_min, y_max, 100))\n",
    "\n",
    "    #plt.figure(figsize=(10,6))\n",
    "    if mesh:\n",
    "        if zfunc:\n",
    "            p0 = clf.predict_proba(np.c_[xx.ravel(), yy.ravel()])[:, 0]\n",
    "            p1 = clf.predict_proba(np.c_[xx.ravel(), yy.ravel()])[:, 1]\n",
    "            Z=zfunc(p0, p1)\n",
    "        else:\n",
    "            Z = clf.predict(np.c_[xx.ravel(), yy.ravel()])\n",
    "        Z = Z.reshape(xx.shape)\n",
    "        plt.pcolormesh(xx, yy, Z, cmap=cmap_light, alpha=alpha, axes=ax)\n",
    "    ax.scatter(Xtr[:, 0], Xtr[:, 1], c=ytr-1, cmap=cmap_bold, s=psize, alpha=alpha,edgecolor=\"k\")\n",
    "    # and testing points\n",
    "    yact=clf.predict(Xte)\n",
    "    ax.scatter(Xte[:, 0], Xte[:, 1], c=yte-1, cmap=cmap_bold, alpha=alpha, marker=\"s\", s=psize+10)\n",
    "    ax.set_xlim(xx.min(), xx.max())\n",
    "    ax.set_ylim(yy.min(), yy.max())\n",
    "    return ax,xx,yy"
   ]
  },
  {
   "cell_type": "code",
   "execution_count": 5,
   "metadata": {},
   "outputs": [],
   "source": [
    "def points_plot_prob(ax, Xtr, Xte, ytr, yte, clf, colorscale=cmap_light, cdiscrete=cmap_bold, ccolor=cm, psize=10, alpha=0.1, prob=True):\n",
    "    ax,xx,yy = points_plot(ax, Xtr, Xte, ytr, yte, clf, mesh=False, colorscale=colorscale, cdiscrete=cdiscrete, psize=psize, alpha=alpha) \n",
    "    if prob:\n",
    "        Z = clf.predict_proba(np.c_[xx.ravel(), yy.ravel()])[:, 1]\n",
    "    else:\n",
    "        Z = clf.decision_function(np.c_[xx.ravel(), yy.ravel()])\n",
    "    Z = Z.reshape(xx.shape)\n",
    "    plt.contourf(xx, yy, Z, cmap=ccolor, alpha=.2, axes=ax)\n",
    "    cs2 = plt.contour(xx, yy, Z, cmap=ccolor, alpha=.6, axes=ax)\n",
    "    plt.clabel(cs2, fmt = '%2.1f', colors = 'k', fontsize=14)\n",
    "    return ax "
   ]
  },
  {
   "cell_type": "markdown",
   "metadata": {},
   "source": [
    "## Setting up the data\n",
    "\n",
    "(I encountered this dataset in Conway, Drew, and John White. Machine learning for hackers. \" O'Reilly Media, Inc.\", 2012.)"
   ]
  },
  {
   "cell_type": "code",
   "execution_count": 6,
   "metadata": {},
   "outputs": [
    {
     "data": {
      "text/html": [
       "<div>\n",
       "<style scoped>\n",
       "    .dataframe tbody tr th:only-of-type {\n",
       "        vertical-align: middle;\n",
       "    }\n",
       "\n",
       "    .dataframe tbody tr th {\n",
       "        vertical-align: top;\n",
       "    }\n",
       "\n",
       "    .dataframe thead th {\n",
       "        text-align: right;\n",
       "    }\n",
       "</style>\n",
       "<table border=\"1\" class=\"dataframe\">\n",
       "  <thead>\n",
       "    <tr style=\"text-align: right;\">\n",
       "      <th></th>\n",
       "      <th>Gender</th>\n",
       "      <th>Height</th>\n",
       "      <th>Weight</th>\n",
       "    </tr>\n",
       "  </thead>\n",
       "  <tbody>\n",
       "    <tr>\n",
       "      <th>0</th>\n",
       "      <td>Male</td>\n",
       "      <td>73.847017</td>\n",
       "      <td>241.893563</td>\n",
       "    </tr>\n",
       "    <tr>\n",
       "      <th>1</th>\n",
       "      <td>Male</td>\n",
       "      <td>68.781904</td>\n",
       "      <td>162.310473</td>\n",
       "    </tr>\n",
       "    <tr>\n",
       "      <th>2</th>\n",
       "      <td>Male</td>\n",
       "      <td>74.110105</td>\n",
       "      <td>212.740856</td>\n",
       "    </tr>\n",
       "    <tr>\n",
       "      <th>3</th>\n",
       "      <td>Male</td>\n",
       "      <td>71.730978</td>\n",
       "      <td>220.042470</td>\n",
       "    </tr>\n",
       "    <tr>\n",
       "      <th>4</th>\n",
       "      <td>Male</td>\n",
       "      <td>69.881796</td>\n",
       "      <td>206.349801</td>\n",
       "    </tr>\n",
       "  </tbody>\n",
       "</table>\n",
       "</div>"
      ],
      "text/plain": [
       "  Gender     Height      Weight\n",
       "0   Male  73.847017  241.893563\n",
       "1   Male  68.781904  162.310473\n",
       "2   Male  74.110105  212.740856\n",
       "3   Male  71.730978  220.042470\n",
       "4   Male  69.881796  206.349801"
      ]
     },
     "execution_count": 6,
     "metadata": {},
     "output_type": "execute_result"
    }
   ],
   "source": [
    "dfhw=pd.read_csv(\"data/01_heights_weights_genders.csv\")\n",
    "dfhw.head()"
   ]
  },
  {
   "cell_type": "code",
   "execution_count": 10,
   "metadata": {},
   "outputs": [
    {
     "data": {
      "text/plain": [
       "(10000, 3)"
      ]
     },
     "execution_count": 10,
     "metadata": {},
     "output_type": "execute_result"
    }
   ],
   "source": [
    "dfhw.shape"
   ]
  },
  {
   "cell_type": "markdown",
   "metadata": {},
   "source": [
    "We sample 500 points from 10,000, since we actually want to see trends clearly on the plots"
   ]
  },
  {
   "cell_type": "code",
   "execution_count": 11,
   "metadata": {},
   "outputs": [
    {
     "data": {
      "text/plain": [
       "265"
      ]
     },
     "execution_count": 11,
     "metadata": {},
     "output_type": "execute_result"
    }
   ],
   "source": [
    "df=dfhw.sample(500, replace=False)\n",
    "np.sum(df.Gender==\"Male\")"
   ]
  },
  {
   "cell_type": "code",
   "execution_count": 14,
   "metadata": {},
   "outputs": [
    {
     "data": {
      "text/plain": [
       "(500, 3)"
      ]
     },
     "execution_count": 14,
     "metadata": {},
     "output_type": "execute_result"
    }
   ],
   "source": [
    "df.shape"
   ]
  },
  {
   "cell_type": "markdown",
   "metadata": {},
   "source": [
    "We split the data into training and test sets...and setup a mask so we can reuse these splits later"
   ]
  },
  {
   "cell_type": "code",
   "execution_count": null,
   "metadata": {},
   "outputs": [],
   "source": []
  },
  {
   "cell_type": "code",
   "execution_count": 17,
   "metadata": {},
   "outputs": [
    {
     "data": {
      "text/plain": [
       "array([ True,  True,  True,  True,  True,  True, False,  True,  True,\n",
       "       False])"
      ]
     },
     "execution_count": 17,
     "metadata": {},
     "output_type": "execute_result"
    }
   ],
   "source": [
    "itrain, itest = train_test_split(range(df.shape[0]), train_size=0.6)\n",
    "mask=np.ones(df.shape[0], dtype='int')\n",
    "mask[itrain]=1\n",
    "mask[itest]=0\n",
    "mask = (mask==1)\n",
    "mask[:10]"
   ]
  },
  {
   "cell_type": "markdown",
   "metadata": {},
   "source": [
    "## Logistic regression\n",
    "\n",
    "\n",
    "$$\n",
    "\\renewcommand{\\like}{{\\cal L}}\n",
    "\\renewcommand{\\loglike}{{\\ell}}\n",
    "\\renewcommand{\\err}{{\\cal E}}\n",
    "\\renewcommand{\\dat}{{\\cal D}}\n",
    "\\renewcommand{\\hyp}{{\\cal H}}\n",
    "\\renewcommand{\\Ex}[2]{E_{#1}[#2]}\n",
    "\\renewcommand{\\x}{{\\mathbf x}}\n",
    "\\renewcommand{\\v}[1]{{\\mathbf #1}}\n",
    "$$\n",
    "\n",
    "\n",
    "Previously, we saw the loss for Logistic regression and noted that it is a loss for probability estimation...and not a loss for making decisions. We'll go into these dual losses soon..\n",
    "\n",
    "$$R_{\\cal{D}}(h(x)) = -\\loglike = -log \\like = - log(P(y|\\v{x},\\v{w})).$$\n",
    "\n",
    "\n",
    "Thus\n",
    "\n",
    "\\begin{eqnarray*}\n",
    "R_{\\cal{D}}(h(x)) &=& -log\\left(\\prod_{y_i \\in \\cal{D}} h(\\v{w}\\cdot\\v{x_i})^{y_i} \\left(1 - h(\\v{w}\\cdot\\v{x_i}) \\right)^{(1-y_i)}\\right)\\\\\n",
    "                  &=& -\\sum_{y_i \\in \\cal{D}} log\\left(h(\\v{w}\\cdot\\v{x_i})^{y_i} \\left(1 - h(\\v{w}\\cdot\\v{x_i}) \\right)^{(1-y_i)}\\right)\\\\                  \n",
    "                  &=& -\\sum_{y_i \\in \\cal{D}} log\\,h(\\v{w}\\cdot\\v{x_i})^{y_i} + log\\,\\left(1 - h(\\v{w}\\cdot\\v{x_i}) \\right)^{(1-y_i)}\\\\\n",
    "                  &=& - \\sum_{y_i \\in \\cal{D}} \\left ( y_i log(h(\\v{w}\\cdot\\v{x})) + ( 1 - y_i) log(1 - h(\\v{w}\\cdot\\v{x})) \\right )\n",
    "\\end{eqnarray*}\n",
    "\n",
    "where\n",
    "\n",
    "$$h(z) = \\frac{1}{1 + e^{-z}}.$$\n",
    "\n"
   ]
  },
  {
   "cell_type": "code",
   "execution_count": 41,
   "metadata": {},
   "outputs": [],
   "source": [
    "X_train=df.iloc[itrain][['Height','Weight']].values\n",
    "X_test = df.iloc[itest][['Height','Weight']].values\n",
    "y_train = 1*(df.iloc[itrain]['Gender']=='Male')\n",
    "y_test = 1*(df.iloc[itest]['Gender']=='Male')"
   ]
  },
  {
   "cell_type": "code",
   "execution_count": 42,
   "metadata": {},
   "outputs": [
    {
     "data": {
      "text/plain": [
       "((300, 2), (200, 2))"
      ]
     },
     "execution_count": 42,
     "metadata": {},
     "output_type": "execute_result"
    }
   ],
   "source": [
    "X_train.shape, X_test.shape"
   ]
  },
  {
   "cell_type": "code",
   "execution_count": 43,
   "metadata": {},
   "outputs": [],
   "source": [
    "j=1*(df.iloc[itrain]['Gender']=='Male')"
   ]
  },
  {
   "cell_type": "code",
   "execution_count": 44,
   "metadata": {},
   "outputs": [
    {
     "name": "stderr",
     "output_type": "stream",
     "text": [
      "C:\\ProgramData\\Anaconda3\\lib\\site-packages\\sklearn\\linear_model\\logistic.py:432: FutureWarning: Default solver will be changed to 'lbfgs' in 0.22. Specify a solver to silence this warning.\n",
      "  FutureWarning)\n"
     ]
    },
    {
     "data": {
      "text/plain": [
       "LogisticRegression(C=10000, class_weight=None, dual=False, fit_intercept=True,\n",
       "                   intercept_scaling=1, l1_ratio=None, max_iter=100,\n",
       "                   multi_class='warn', n_jobs=None, penalty='l2',\n",
       "                   random_state=None, solver='warn', tol=0.0001, verbose=0,\n",
       "                   warm_start=False)"
      ]
     },
     "execution_count": 44,
     "metadata": {},
     "output_type": "execute_result"
    }
   ],
   "source": [
    "from sklearn.linear_model import LogisticRegression\n",
    "clf = LogisticRegression(C=10000)\n",
    "clf.fit(X_train,y_train)"
   ]
  },
  {
   "cell_type": "markdown",
   "metadata": {},
   "source": [
    "Notice that its L2 regularized.... by default"
   ]
  },
  {
   "cell_type": "markdown",
   "metadata": {},
   "source": [
    "In `sklearn`, `clf.predict(test_data)` makes predictions on the assumption that a 0.5 probability threshold is the appropriate thing to do. Make predictions on the test set"
   ]
  },
  {
   "cell_type": "code",
   "execution_count": 47,
   "metadata": {},
   "outputs": [],
   "source": [
    "predictions = clf.predict(X_test)"
   ]
  },
  {
   "cell_type": "code",
   "execution_count": 48,
   "metadata": {},
   "outputs": [
    {
     "data": {
      "text/plain": [
       "0.085"
      ]
     },
     "execution_count": 48,
     "metadata": {},
     "output_type": "execute_result"
    }
   ],
   "source": [
    "np.mean(np.abs(predictions - y_test))"
   ]
  },
  {
   "cell_type": "code",
   "execution_count": 50,
   "metadata": {},
   "outputs": [
    {
     "data": {
      "text/plain": [
       "0.915"
      ]
     },
     "execution_count": 50,
     "metadata": {},
     "output_type": "execute_result"
    }
   ],
   "source": [
    "# your code here\n",
    "clf.score(X_test,y_test)"
   ]
  },
  {
   "cell_type": "code",
   "execution_count": 53,
   "metadata": {},
   "outputs": [
    {
     "data": {
      "text/plain": [
       "0.915"
      ]
     },
     "execution_count": 53,
     "metadata": {},
     "output_type": "execute_result"
    }
   ],
   "source": [
    "from sklearn.metrics import accuracy_score\n",
    "accuracy_score(y_test ,predictions)"
   ]
  },
  {
   "cell_type": "code",
   "execution_count": 59,
   "metadata": {},
   "outputs": [
    {
     "data": {
      "text/plain": [
       "array([9.80369698e-03, 9.99063444e-01, 9.83228523e-01, 9.50703144e-01,\n",
       "       9.99561733e-01, 9.99256600e-01, 6.89610220e-01, 3.98502256e-01,\n",
       "       2.08997545e-02, 9.12586133e-01, 8.10283255e-02, 2.31491461e-01,\n",
       "       9.97387948e-01, 9.83001751e-03, 3.75223494e-01, 2.54138704e-01,\n",
       "       6.55986910e-02, 9.80436902e-01, 8.02419139e-04, 9.51046083e-01,\n",
       "       9.50689393e-01, 5.15425942e-02, 3.33693235e-03, 4.50644445e-03,\n",
       "       6.15123229e-02, 1.43325560e-02, 4.95536860e-03, 7.29040662e-01,\n",
       "       1.23428813e-03, 4.41254606e-02, 1.50027449e-01, 9.99900849e-01,\n",
       "       9.96429818e-01, 9.33516709e-01, 9.63875132e-01, 8.04475342e-01,\n",
       "       5.14629808e-01, 9.98990306e-01, 9.94294849e-01, 7.17379982e-02,\n",
       "       9.94586034e-01, 9.40548573e-01, 9.96146372e-01, 9.09424644e-02,\n",
       "       1.10983988e-01, 9.74750503e-01, 9.77039405e-01, 9.98476865e-01,\n",
       "       9.98404650e-01, 7.30226138e-01, 9.97789729e-01, 8.28004665e-01,\n",
       "       9.96923862e-01, 4.86800206e-01, 9.14690042e-01, 6.56943518e-01,\n",
       "       2.45843569e-02, 9.99442375e-01, 1.83224472e-02, 9.90588636e-01,\n",
       "       9.90565610e-01, 9.80111279e-01, 4.51477599e-01, 1.39233220e-01,\n",
       "       3.49627797e-01, 9.95050976e-01, 2.75556017e-02, 2.24405515e-01,\n",
       "       9.95715812e-01, 2.04527816e-01, 9.92639811e-01, 9.96472542e-01,\n",
       "       5.36634114e-01, 3.82599310e-02, 1.54879976e-01, 1.21001468e-02,\n",
       "       9.84322124e-04, 6.34123691e-02, 6.37368403e-01, 9.97762582e-01,\n",
       "       9.03245820e-01, 2.54131307e-03, 9.90069854e-01, 8.35735036e-01,\n",
       "       6.25696452e-03, 3.49169178e-01, 5.35464131e-01, 1.36871665e-01,\n",
       "       3.85457213e-02, 4.73319908e-01, 2.55786116e-01, 9.38558962e-01,\n",
       "       7.01261048e-03, 2.51072690e-02, 4.47656246e-01, 1.31709759e-02,\n",
       "       3.93660332e-02, 1.06006817e-02, 3.02719802e-01, 9.86760376e-01,\n",
       "       7.61036941e-01, 2.27105563e-04, 1.55979358e-03, 9.98168437e-01,\n",
       "       2.52580058e-03, 3.00501865e-03, 9.99918918e-01, 1.21105080e-02,\n",
       "       7.69504327e-01, 2.15382245e-02, 9.96951980e-01, 7.89649464e-01,\n",
       "       9.93441648e-01, 4.23823114e-02, 4.19224895e-02, 9.99123986e-01,\n",
       "       3.56158987e-02, 1.76042571e-02, 9.98414988e-01, 3.70751578e-03,\n",
       "       6.57908102e-01, 4.42212884e-02, 6.20473264e-02, 9.98353923e-01,\n",
       "       2.50919791e-02, 9.99620469e-01, 1.46003032e-01, 2.79381520e-03,\n",
       "       7.73162671e-01, 9.10335406e-04, 9.52411594e-01, 9.96049373e-01,\n",
       "       1.79000039e-02, 3.93736397e-01, 9.87078225e-01, 1.22695701e-01,\n",
       "       9.12188056e-03, 9.94494038e-01, 2.11891109e-01, 9.98353471e-01,\n",
       "       3.60388889e-02, 5.17001249e-03, 4.61495019e-01, 5.24207857e-01,\n",
       "       9.94138582e-01, 8.15604204e-01, 9.90470171e-01, 4.72355682e-01,\n",
       "       9.32999815e-01, 2.69564033e-03, 7.36314002e-03, 6.40102582e-01,\n",
       "       3.08023678e-03, 8.69994905e-01, 9.98328294e-01, 6.56077514e-01,\n",
       "       8.72207726e-01, 9.99167697e-01, 9.05631897e-01, 9.30572624e-01,\n",
       "       6.14639996e-01, 8.32465140e-01, 7.89581339e-02, 3.45129085e-01,\n",
       "       1.31648573e-01, 9.99633246e-01, 2.58302155e-02, 9.99438131e-01,\n",
       "       1.83152240e-01, 9.53552011e-01, 1.60683762e-02, 9.99579736e-01,\n",
       "       7.31021025e-01, 5.04471596e-03, 4.01113587e-02, 9.96756565e-01,\n",
       "       9.54092734e-03, 9.99039520e-01, 4.88205689e-02, 9.98380227e-01,\n",
       "       8.86863745e-02, 9.98995467e-01, 4.29116285e-04, 9.98805993e-01,\n",
       "       7.63704696e-01, 9.58255805e-01, 9.92977407e-01, 9.99695888e-01,\n",
       "       7.48817820e-02, 9.44101263e-01, 9.99923066e-01, 9.76978323e-01,\n",
       "       8.13952943e-01, 3.13043726e-03, 9.99677734e-01, 1.71978249e-02,\n",
       "       4.58714442e-02, 6.94800744e-03, 2.28574154e-02, 9.93812145e-01])"
      ]
     },
     "execution_count": 59,
     "metadata": {},
     "output_type": "execute_result"
    }
   ],
   "source": [
    "clf.predict_proba(X_test)[:,1]"
   ]
  },
  {
   "cell_type": "markdown",
   "metadata": {},
   "source": [
    "In `sklearn`, `predict_proba` gives us the probabilities. Find the probabilities on the test set."
   ]
  },
  {
   "cell_type": "code",
   "execution_count": 63,
   "metadata": {},
   "outputs": [],
   "source": [
    " t = clflog.predict_proba(Xtest)"
   ]
  },
  {
   "cell_type": "code",
   "execution_count": 112,
   "metadata": {},
   "outputs": [
    {
     "name": "stdout",
     "output_type": "stream",
     "text": [
      "using mask\n"
     ]
    },
    {
     "ename": "AttributeError",
     "evalue": "'StandardScaler' object has no attribute 'tansform'",
     "output_type": "error",
     "traceback": [
      "\u001b[1;31m---------------------------------------------------------------------------\u001b[0m",
      "\u001b[1;31mAttributeError\u001b[0m                            Traceback (most recent call last)",
      "\u001b[1;32m<ipython-input-112-2f815f6e4ce5>\u001b[0m in \u001b[0;36m<module>\u001b[1;34m\u001b[0m\n\u001b[0;32m      2\u001b[0m \u001b[0mparameters\u001b[0m \u001b[1;33m=\u001b[0m \u001b[1;33m{\u001b[0m\u001b[1;34m\"C\"\u001b[0m\u001b[1;33m:\u001b[0m \u001b[1;33m[\u001b[0m\u001b[1;36m0.001\u001b[0m\u001b[1;33m,\u001b[0m \u001b[1;36m0.01\u001b[0m\u001b[1;33m,\u001b[0m \u001b[1;36m0.1\u001b[0m\u001b[1;33m,\u001b[0m \u001b[1;36m1\u001b[0m\u001b[1;33m,\u001b[0m \u001b[1;36m10\u001b[0m\u001b[1;33m,\u001b[0m \u001b[1;36m100\u001b[0m\u001b[1;33m,\u001b[0m \u001b[1;36m1000\u001b[0m\u001b[1;33m,\u001b[0m \u001b[1;36m10000\u001b[0m\u001b[1;33m]\u001b[0m\u001b[1;33m}\u001b[0m\u001b[1;33m\u001b[0m\u001b[1;33m\u001b[0m\u001b[0m\n\u001b[0;32m      3\u001b[0m \u001b[0mclflog\u001b[0m \u001b[1;33m=\u001b[0m \u001b[0mLogisticRegression\u001b[0m\u001b[1;33m(\u001b[0m\u001b[0msolver\u001b[0m\u001b[1;33m=\u001b[0m\u001b[1;34m'lbfgs'\u001b[0m\u001b[1;33m)\u001b[0m\u001b[1;33m\u001b[0m\u001b[1;33m\u001b[0m\u001b[0m\n\u001b[1;32m----> 4\u001b[1;33m \u001b[0mclflog\u001b[0m\u001b[1;33m,\u001b[0m \u001b[0mXtrain\u001b[0m\u001b[1;33m,\u001b[0m \u001b[0mytrain\u001b[0m\u001b[1;33m,\u001b[0m \u001b[0mXtest\u001b[0m\u001b[1;33m,\u001b[0m \u001b[0mytest\u001b[0m\u001b[1;33m=\u001b[0m\u001b[0mdo_classify\u001b[0m\u001b[1;33m(\u001b[0m\u001b[0mclflog\u001b[0m\u001b[1;33m,\u001b[0m \u001b[0mparameters\u001b[0m\u001b[1;33m,\u001b[0m \u001b[0mdf\u001b[0m\u001b[1;33m,\u001b[0m \u001b[1;33m[\u001b[0m\u001b[1;34m'Height'\u001b[0m\u001b[1;33m,\u001b[0m\u001b[1;34m'Weight'\u001b[0m\u001b[1;33m]\u001b[0m\u001b[1;33m,\u001b[0m\u001b[1;34m'Gender'\u001b[0m\u001b[1;33m,\u001b[0m \u001b[1;34m\"Male\"\u001b[0m\u001b[1;33m,\u001b[0m \u001b[0mmode\u001b[0m\u001b[1;33m=\u001b[0m\u001b[1;34m\"mask\"\u001b[0m\u001b[1;33m,\u001b[0m \u001b[0mreuse_split\u001b[0m\u001b[1;33m=\u001b[0m\u001b[0mmask\u001b[0m\u001b[1;33m)\u001b[0m\u001b[1;33m\u001b[0m\u001b[1;33m\u001b[0m\u001b[0m\n\u001b[0m",
      "\u001b[1;32m<ipython-input-101-4684f75f75e3>\u001b[0m in \u001b[0;36mdo_classify\u001b[1;34m(clf, parameters, indf, featurenames, targetname, target1val, mode, reuse_split, score_func, n_folds, n_jobs)\u001b[0m\n\u001b[0;32m     45\u001b[0m     \u001b[0mss\u001b[0m \u001b[1;33m=\u001b[0m \u001b[0mStandardScaler\u001b[0m\u001b[1;33m(\u001b[0m\u001b[1;33m)\u001b[0m\u001b[1;33m.\u001b[0m\u001b[0mfit\u001b[0m\u001b[1;33m(\u001b[0m\u001b[0mXtrain\u001b[0m\u001b[1;33m)\u001b[0m\u001b[1;31m#make sure you only use xtrain to get mean and std. deviation otherwise we leak test data\u001b[0m\u001b[1;33m\u001b[0m\u001b[1;33m\u001b[0m\u001b[0m\n\u001b[0;32m     46\u001b[0m     \u001b[0mXtrain\u001b[0m \u001b[1;33m=\u001b[0m \u001b[0mss\u001b[0m\u001b[1;33m.\u001b[0m\u001b[0mtransform\u001b[0m\u001b[1;33m(\u001b[0m\u001b[0mXtrain\u001b[0m\u001b[1;33m)\u001b[0m\u001b[1;33m\u001b[0m\u001b[1;33m\u001b[0m\u001b[0m\n\u001b[1;32m---> 47\u001b[1;33m     \u001b[0mXtest\u001b[0m \u001b[1;33m=\u001b[0m \u001b[0mss\u001b[0m\u001b[1;33m.\u001b[0m\u001b[0mtansform\u001b[0m\u001b[1;33m(\u001b[0m\u001b[0mXtest\u001b[0m\u001b[1;33m)\u001b[0m\u001b[1;33m\u001b[0m\u001b[1;33m\u001b[0m\u001b[0m\n\u001b[0m\u001b[0;32m     48\u001b[0m     \u001b[1;32mif\u001b[0m \u001b[0mparameters\u001b[0m\u001b[1;33m:\u001b[0m\u001b[1;33m\u001b[0m\u001b[1;33m\u001b[0m\u001b[0m\n\u001b[0;32m     49\u001b[0m         \u001b[0mclf\u001b[0m \u001b[1;33m=\u001b[0m \u001b[0mcv_optimize\u001b[0m\u001b[1;33m(\u001b[0m\u001b[0mclf\u001b[0m\u001b[1;33m,\u001b[0m \u001b[0mparameters\u001b[0m\u001b[1;33m,\u001b[0m \u001b[0mXtrain\u001b[0m\u001b[1;33m,\u001b[0m \u001b[0mytrain\u001b[0m\u001b[1;33m,\u001b[0m \u001b[0mn_jobs\u001b[0m\u001b[1;33m=\u001b[0m\u001b[0mn_jobs\u001b[0m\u001b[1;33m,\u001b[0m \u001b[0mn_folds\u001b[0m\u001b[1;33m=\u001b[0m\u001b[0mn_folds\u001b[0m\u001b[1;33m,\u001b[0m \u001b[0mscore_func\u001b[0m\u001b[1;33m=\u001b[0m\u001b[0mscore_func\u001b[0m\u001b[1;33m)\u001b[0m\u001b[1;33m\u001b[0m\u001b[1;33m\u001b[0m\u001b[0m\n",
      "\u001b[1;31mAttributeError\u001b[0m: 'StandardScaler' object has no attribute 'tansform'"
     ]
    }
   ],
   "source": [
    "from sklearn.linear_model import LogisticRegression\n",
    "parameters = {\"C\": [0.001, 0.01, 0.1, 1, 10, 100, 1000, 10000]}\n",
    "clflog = LogisticRegression(solver='lbfgs')\n",
    "clflog, Xtrain, ytrain, Xtest, ytest=do_classify(clflog, parameters, df, ['Height','Weight'],'Gender', \"Male\", mode=\"mask\", reuse_split=mask)"
   ]
  },
  {
   "cell_type": "code",
   "execution_count": 113,
   "metadata": {},
   "outputs": [
    {
     "data": {
      "text/plain": [
       "LogisticRegression(C=1.0, class_weight=None, dual=False, fit_intercept=True,\n",
       "                   intercept_scaling=1, l1_ratio=None, max_iter=100,\n",
       "                   multi_class='warn', n_jobs=None, penalty='l2',\n",
       "                   random_state=None, solver='lbfgs', tol=0.0001, verbose=0,\n",
       "                   warm_start=False)"
      ]
     },
     "execution_count": 113,
     "metadata": {},
     "output_type": "execute_result"
    }
   ],
   "source": [
    "clf"
   ]
  },
  {
   "cell_type": "code",
   "execution_count": 114,
   "metadata": {},
   "outputs": [
    {
     "data": {
      "text/plain": [
       "GridSearchCV(cv=5, error_score='raise-deprecating',\n",
       "             estimator=LogisticRegression(C=1.0, class_weight=None, dual=False,\n",
       "                                          fit_intercept=True,\n",
       "                                          intercept_scaling=1, l1_ratio=None,\n",
       "                                          max_iter=100, multi_class='warn',\n",
       "                                          n_jobs=None, penalty='l2',\n",
       "                                          random_state=None, solver='lbfgs',\n",
       "                                          tol=0.0001, verbose=0,\n",
       "                                          warm_start=False),\n",
       "             iid='warn', n_jobs=None,\n",
       "             param_grid={'C': [0.001, 0.01, 0.1, 1, 10, 100, 1000, 10000]},\n",
       "             pre_dispatch='2*n_jobs', refit=True, return_train_score=False,\n",
       "             scoring=None, verbose=0)"
      ]
     },
     "execution_count": 114,
     "metadata": {},
     "output_type": "execute_result"
    }
   ],
   "source": [
    "from sklearn.model_selection import GridSearchCV\n",
    "clf = LogisticRegression(solver = \"lbfgs\")\n",
    "parameters = {\"C\": [0.001, 0.01, 0.1, 1, 10, 100, 1000, 10000]}\n",
    "gs = GridSearchCV(clf,parameters,cv=5)#cv = 5 means 5 folds\n",
    "gs.fit(X_train,y_train)"
   ]
  },
  {
   "cell_type": "code",
   "execution_count": 115,
   "metadata": {},
   "outputs": [
    {
     "data": {
      "text/plain": [
       "0.93"
      ]
     },
     "execution_count": 115,
     "metadata": {},
     "output_type": "execute_result"
    }
   ],
   "source": [
    "gs.score(X_train,y_train)"
   ]
  },
  {
   "cell_type": "code",
   "execution_count": 116,
   "metadata": {},
   "outputs": [
    {
     "data": {
      "text/plain": [
       "LogisticRegression(C=1, class_weight=None, dual=False, fit_intercept=True,\n",
       "                   intercept_scaling=1, l1_ratio=None, max_iter=100,\n",
       "                   multi_class='warn', n_jobs=None, penalty='l2',\n",
       "                   random_state=None, solver='lbfgs', tol=0.0001, verbose=0,\n",
       "                   warm_start=False)"
      ]
     },
     "execution_count": 116,
     "metadata": {},
     "output_type": "execute_result"
    }
   ],
   "source": [
    "gs.best_estimator_"
   ]
  },
  {
   "cell_type": "code",
   "execution_count": 117,
   "metadata": {},
   "outputs": [
    {
     "data": {
      "text/plain": [
       "0.93"
      ]
     },
     "execution_count": 117,
     "metadata": {},
     "output_type": "execute_result"
    }
   ],
   "source": [
    "gs.best_score_"
   ]
  },
  {
   "cell_type": "code",
   "execution_count": null,
   "metadata": {},
   "outputs": [],
   "source": []
  },
  {
   "cell_type": "code",
   "execution_count": 118,
   "metadata": {},
   "outputs": [
    {
     "ename": "AttributeError",
     "evalue": "module 'seaborn.apionly' has no attribute 'histplot'",
     "output_type": "error",
     "traceback": [
      "\u001b[1;31m---------------------------------------------------------------------------\u001b[0m",
      "\u001b[1;31mAttributeError\u001b[0m                            Traceback (most recent call last)",
      "\u001b[1;32m<ipython-input-118-6a73922bd45e>\u001b[0m in \u001b[0;36m<module>\u001b[1;34m\u001b[0m\n\u001b[1;32m----> 1\u001b[1;33m \u001b[0msns\u001b[0m\u001b[1;33m.\u001b[0m\u001b[0mhistplot\u001b[0m\u001b[1;33m(\u001b[0m\u001b[0mclflog\u001b[0m\u001b[1;33m.\u001b[0m\u001b[0mpredict_proba\u001b[0m\u001b[1;33m(\u001b[0m\u001b[0mXtest\u001b[0m\u001b[1;33m)\u001b[0m\u001b[1;33m[\u001b[0m\u001b[1;33m:\u001b[0m\u001b[1;33m,\u001b[0m\u001b[1;36m1\u001b[0m\u001b[1;33m]\u001b[0m\u001b[1;33m)\u001b[0m\u001b[1;33m\u001b[0m\u001b[1;33m\u001b[0m\u001b[0m\n\u001b[0m",
      "\u001b[1;31mAttributeError\u001b[0m: module 'seaborn.apionly' has no attribute 'histplot'"
     ]
    }
   ],
   "source": [
    "sns.histplot(clflog.predict_proba(Xtest)[:,1])"
   ]
  },
  {
   "cell_type": "markdown",
   "metadata": {},
   "source": [
    "What do these probabilities correspond to? The second column (`[:,1]` in numpy parlance, google numpy indexing to understand the syntax) gives the probability that the sample is a 1 (or +ive), here Male.\n",
    "\n",
    "Make a histogram of these probabilities. Interpret them."
   ]
  },
  {
   "cell_type": "code",
   "execution_count": 110,
   "metadata": {},
   "outputs": [
    {
     "ename": "NotFittedError",
     "evalue": "Call fit before prediction",
     "output_type": "error",
     "traceback": [
      "\u001b[1;31m---------------------------------------------------------------------------\u001b[0m",
      "\u001b[1;31mNotFittedError\u001b[0m                            Traceback (most recent call last)",
      "\u001b[1;32m<ipython-input-110-48c12897740b>\u001b[0m in \u001b[0;36m<module>\u001b[1;34m\u001b[0m\n\u001b[0;32m      1\u001b[0m \u001b[1;31m# your code here\u001b[0m\u001b[1;33m\u001b[0m\u001b[1;33m\u001b[0m\u001b[1;33m\u001b[0m\u001b[0m\n\u001b[1;32m----> 2\u001b[1;33m \u001b[0mplt\u001b[0m\u001b[1;33m.\u001b[0m\u001b[0mhist\u001b[0m\u001b[1;33m(\u001b[0m\u001b[0mclflog\u001b[0m\u001b[1;33m.\u001b[0m\u001b[0mpredict_proba\u001b[0m\u001b[1;33m(\u001b[0m\u001b[0mXtest\u001b[0m\u001b[1;33m)\u001b[0m\u001b[1;33m[\u001b[0m\u001b[1;33m:\u001b[0m\u001b[1;33m,\u001b[0m\u001b[1;36m1\u001b[0m\u001b[1;33m]\u001b[0m\u001b[1;33m*\u001b[0m\u001b[1;36m100\u001b[0m\u001b[1;33m)\u001b[0m\u001b[1;33m;\u001b[0m\u001b[1;33m\u001b[0m\u001b[1;33m\u001b[0m\u001b[0m\n\u001b[0m",
      "\u001b[1;32mC:\\ProgramData\\Anaconda3\\lib\\site-packages\\sklearn\\linear_model\\logistic.py\u001b[0m in \u001b[0;36mpredict_proba\u001b[1;34m(self, X)\u001b[0m\n\u001b[0;32m   1646\u001b[0m         \"\"\"\n\u001b[0;32m   1647\u001b[0m         \u001b[1;32mif\u001b[0m \u001b[1;32mnot\u001b[0m \u001b[0mhasattr\u001b[0m\u001b[1;33m(\u001b[0m\u001b[0mself\u001b[0m\u001b[1;33m,\u001b[0m \u001b[1;34m\"coef_\"\u001b[0m\u001b[1;33m)\u001b[0m\u001b[1;33m:\u001b[0m\u001b[1;33m\u001b[0m\u001b[1;33m\u001b[0m\u001b[0m\n\u001b[1;32m-> 1648\u001b[1;33m             \u001b[1;32mraise\u001b[0m \u001b[0mNotFittedError\u001b[0m\u001b[1;33m(\u001b[0m\u001b[1;34m\"Call fit before prediction\"\u001b[0m\u001b[1;33m)\u001b[0m\u001b[1;33m\u001b[0m\u001b[1;33m\u001b[0m\u001b[0m\n\u001b[0m\u001b[0;32m   1649\u001b[0m \u001b[1;33m\u001b[0m\u001b[0m\n\u001b[0;32m   1650\u001b[0m         ovr = (self.multi_class in [\"ovr\", \"warn\"] or\n",
      "\u001b[1;31mNotFittedError\u001b[0m: Call fit before prediction"
     ]
    }
   ],
   "source": [
    "# your code here\n",
    "plt.hist(clflog.predict_proba(Xtest)[:,1]*100);"
   ]
  },
  {
   "cell_type": "markdown",
   "metadata": {},
   "source": [
    "Lots of sure females and sure males when you plot the probability of being a male. \n",
    "\n",
    "At this point you might want to see how this histogram looks in the 2 dimensional space of our predictors."
   ]
  },
  {
   "cell_type": "code",
   "execution_count": 111,
   "metadata": {},
   "outputs": [
    {
     "ename": "NotFittedError",
     "evalue": "This LogisticRegression instance is not fitted yet",
     "output_type": "error",
     "traceback": [
      "\u001b[1;31m---------------------------------------------------------------------------\u001b[0m",
      "\u001b[1;31mNotFittedError\u001b[0m                            Traceback (most recent call last)",
      "\u001b[1;32m<ipython-input-111-d7fb142d64bc>\u001b[0m in \u001b[0;36m<module>\u001b[1;34m\u001b[0m\n\u001b[0;32m      3\u001b[0m \u001b[0max\u001b[0m\u001b[1;33m=\u001b[0m\u001b[0mplt\u001b[0m\u001b[1;33m.\u001b[0m\u001b[0mgca\u001b[0m\u001b[1;33m(\u001b[0m\u001b[1;33m)\u001b[0m\u001b[1;33m\u001b[0m\u001b[1;33m\u001b[0m\u001b[0m\n\u001b[0;32m      4\u001b[0m \u001b[1;32mwith\u001b[0m \u001b[0msns\u001b[0m\u001b[1;33m.\u001b[0m\u001b[0mplotting_context\u001b[0m\u001b[1;33m(\u001b[0m\u001b[1;34m'poster'\u001b[0m\u001b[1;33m)\u001b[0m\u001b[1;33m:\u001b[0m\u001b[1;33m\u001b[0m\u001b[1;33m\u001b[0m\u001b[0m\n\u001b[1;32m----> 5\u001b[1;33m     \u001b[0mpoints_plot\u001b[0m\u001b[1;33m(\u001b[0m\u001b[0max\u001b[0m\u001b[1;33m,\u001b[0m \u001b[0mXtrain\u001b[0m\u001b[1;33m,\u001b[0m \u001b[0mXtest\u001b[0m\u001b[1;33m,\u001b[0m \u001b[0mytrain\u001b[0m\u001b[1;33m,\u001b[0m \u001b[0mytest\u001b[0m\u001b[1;33m,\u001b[0m \u001b[0mclflog\u001b[0m\u001b[1;33m)\u001b[0m\u001b[1;33m;\u001b[0m\u001b[1;33m\u001b[0m\u001b[1;33m\u001b[0m\u001b[0m\n\u001b[0m",
      "\u001b[1;32m<ipython-input-4-ca258795436c>\u001b[0m in \u001b[0;36mpoints_plot\u001b[1;34m(ax, Xtr, Xte, ytr, yte, clf, mesh, colorscale, cdiscrete, alpha, psize, zfunc)\u001b[0m\n\u001b[0;32m     20\u001b[0m             \u001b[0mZ\u001b[0m\u001b[1;33m=\u001b[0m\u001b[0mzfunc\u001b[0m\u001b[1;33m(\u001b[0m\u001b[0mp0\u001b[0m\u001b[1;33m,\u001b[0m \u001b[0mp1\u001b[0m\u001b[1;33m)\u001b[0m\u001b[1;33m\u001b[0m\u001b[1;33m\u001b[0m\u001b[0m\n\u001b[0;32m     21\u001b[0m         \u001b[1;32melse\u001b[0m\u001b[1;33m:\u001b[0m\u001b[1;33m\u001b[0m\u001b[1;33m\u001b[0m\u001b[0m\n\u001b[1;32m---> 22\u001b[1;33m             \u001b[0mZ\u001b[0m \u001b[1;33m=\u001b[0m \u001b[0mclf\u001b[0m\u001b[1;33m.\u001b[0m\u001b[0mpredict\u001b[0m\u001b[1;33m(\u001b[0m\u001b[0mnp\u001b[0m\u001b[1;33m.\u001b[0m\u001b[0mc_\u001b[0m\u001b[1;33m[\u001b[0m\u001b[0mxx\u001b[0m\u001b[1;33m.\u001b[0m\u001b[0mravel\u001b[0m\u001b[1;33m(\u001b[0m\u001b[1;33m)\u001b[0m\u001b[1;33m,\u001b[0m \u001b[0myy\u001b[0m\u001b[1;33m.\u001b[0m\u001b[0mravel\u001b[0m\u001b[1;33m(\u001b[0m\u001b[1;33m)\u001b[0m\u001b[1;33m]\u001b[0m\u001b[1;33m)\u001b[0m\u001b[1;33m\u001b[0m\u001b[1;33m\u001b[0m\u001b[0m\n\u001b[0m\u001b[0;32m     23\u001b[0m         \u001b[0mZ\u001b[0m \u001b[1;33m=\u001b[0m \u001b[0mZ\u001b[0m\u001b[1;33m.\u001b[0m\u001b[0mreshape\u001b[0m\u001b[1;33m(\u001b[0m\u001b[0mxx\u001b[0m\u001b[1;33m.\u001b[0m\u001b[0mshape\u001b[0m\u001b[1;33m)\u001b[0m\u001b[1;33m\u001b[0m\u001b[1;33m\u001b[0m\u001b[0m\n\u001b[0;32m     24\u001b[0m         \u001b[0mplt\u001b[0m\u001b[1;33m.\u001b[0m\u001b[0mpcolormesh\u001b[0m\u001b[1;33m(\u001b[0m\u001b[0mxx\u001b[0m\u001b[1;33m,\u001b[0m \u001b[0myy\u001b[0m\u001b[1;33m,\u001b[0m \u001b[0mZ\u001b[0m\u001b[1;33m,\u001b[0m \u001b[0mcmap\u001b[0m\u001b[1;33m=\u001b[0m\u001b[0mcmap_light\u001b[0m\u001b[1;33m,\u001b[0m \u001b[0malpha\u001b[0m\u001b[1;33m=\u001b[0m\u001b[0malpha\u001b[0m\u001b[1;33m,\u001b[0m \u001b[0maxes\u001b[0m\u001b[1;33m=\u001b[0m\u001b[0max\u001b[0m\u001b[1;33m)\u001b[0m\u001b[1;33m\u001b[0m\u001b[1;33m\u001b[0m\u001b[0m\n",
      "\u001b[1;32mC:\\ProgramData\\Anaconda3\\lib\\site-packages\\sklearn\\linear_model\\base.py\u001b[0m in \u001b[0;36mpredict\u001b[1;34m(self, X)\u001b[0m\n\u001b[0;32m    287\u001b[0m             \u001b[0mPredicted\u001b[0m \u001b[1;32mclass\u001b[0m \u001b[0mlabel\u001b[0m \u001b[0mper\u001b[0m \u001b[0msample\u001b[0m\u001b[1;33m.\u001b[0m\u001b[1;33m\u001b[0m\u001b[1;33m\u001b[0m\u001b[0m\n\u001b[0;32m    288\u001b[0m         \"\"\"\n\u001b[1;32m--> 289\u001b[1;33m         \u001b[0mscores\u001b[0m \u001b[1;33m=\u001b[0m \u001b[0mself\u001b[0m\u001b[1;33m.\u001b[0m\u001b[0mdecision_function\u001b[0m\u001b[1;33m(\u001b[0m\u001b[0mX\u001b[0m\u001b[1;33m)\u001b[0m\u001b[1;33m\u001b[0m\u001b[1;33m\u001b[0m\u001b[0m\n\u001b[0m\u001b[0;32m    290\u001b[0m         \u001b[1;32mif\u001b[0m \u001b[0mlen\u001b[0m\u001b[1;33m(\u001b[0m\u001b[0mscores\u001b[0m\u001b[1;33m.\u001b[0m\u001b[0mshape\u001b[0m\u001b[1;33m)\u001b[0m \u001b[1;33m==\u001b[0m \u001b[1;36m1\u001b[0m\u001b[1;33m:\u001b[0m\u001b[1;33m\u001b[0m\u001b[1;33m\u001b[0m\u001b[0m\n\u001b[0;32m    291\u001b[0m             \u001b[0mindices\u001b[0m \u001b[1;33m=\u001b[0m \u001b[1;33m(\u001b[0m\u001b[0mscores\u001b[0m \u001b[1;33m>\u001b[0m \u001b[1;36m0\u001b[0m\u001b[1;33m)\u001b[0m\u001b[1;33m.\u001b[0m\u001b[0mastype\u001b[0m\u001b[1;33m(\u001b[0m\u001b[0mnp\u001b[0m\u001b[1;33m.\u001b[0m\u001b[0mint\u001b[0m\u001b[1;33m)\u001b[0m\u001b[1;33m\u001b[0m\u001b[1;33m\u001b[0m\u001b[0m\n",
      "\u001b[1;32mC:\\ProgramData\\Anaconda3\\lib\\site-packages\\sklearn\\linear_model\\base.py\u001b[0m in \u001b[0;36mdecision_function\u001b[1;34m(self, X)\u001b[0m\n\u001b[0;32m    261\u001b[0m         \u001b[1;32mif\u001b[0m \u001b[1;32mnot\u001b[0m \u001b[0mhasattr\u001b[0m\u001b[1;33m(\u001b[0m\u001b[0mself\u001b[0m\u001b[1;33m,\u001b[0m \u001b[1;34m'coef_'\u001b[0m\u001b[1;33m)\u001b[0m \u001b[1;32mor\u001b[0m \u001b[0mself\u001b[0m\u001b[1;33m.\u001b[0m\u001b[0mcoef_\u001b[0m \u001b[1;32mis\u001b[0m \u001b[1;32mNone\u001b[0m\u001b[1;33m:\u001b[0m\u001b[1;33m\u001b[0m\u001b[1;33m\u001b[0m\u001b[0m\n\u001b[0;32m    262\u001b[0m             raise NotFittedError(\"This %(name)s instance is not fitted \"\n\u001b[1;32m--> 263\u001b[1;33m                                  \"yet\" % {'name': type(self).__name__})\n\u001b[0m\u001b[0;32m    264\u001b[0m \u001b[1;33m\u001b[0m\u001b[0m\n\u001b[0;32m    265\u001b[0m         \u001b[0mX\u001b[0m \u001b[1;33m=\u001b[0m \u001b[0mcheck_array\u001b[0m\u001b[1;33m(\u001b[0m\u001b[0mX\u001b[0m\u001b[1;33m,\u001b[0m \u001b[0maccept_sparse\u001b[0m\u001b[1;33m=\u001b[0m\u001b[1;34m'csr'\u001b[0m\u001b[1;33m)\u001b[0m\u001b[1;33m\u001b[0m\u001b[1;33m\u001b[0m\u001b[0m\n",
      "\u001b[1;31mNotFittedError\u001b[0m: This LogisticRegression instance is not fitted yet"
     ]
    },
    {
     "data": {
      "image/png": "[encoded data removed]",
      "text/plain": [
       "<Figure size 432x288 with 1 Axes>"
      ]
     },
     "metadata": {
      "needs_background": "light"
     },
     "output_type": "display_data"
    }
   ],
   "source": [
    "Xtr=np.concatenate((Xtrain, Xtest))\n",
    "plt.figure()\n",
    "ax=plt.gca()\n",
    "with sns.plotting_context('poster'):\n",
    "    points_plot(ax, Xtrain, Xtest, ytrain, ytest, clflog);"
   ]
  },
  {
   "cell_type": "code",
   "execution_count": 94,
   "metadata": {},
   "outputs": [
    {
     "data": {
      "text/plain": [
       "array([[ 63.27189295, 142.99423981],\n",
       "       [ 63.22282474, 172.0248141 ],\n",
       "       [ 62.99503945, 132.97043335],\n",
       "       [ 67.38580918, 171.05608269],\n",
       "       [ 66.03699065, 150.9945625 ],\n",
       "       [ 61.98344472, 110.51443699],\n",
       "       [ 72.10702592, 204.03812504],\n",
       "       [ 61.63855662, 128.55397414],\n",
       "       [ 62.34671605, 139.19662107],\n",
       "       [ 66.15135541, 160.7672881 ],\n",
       "       [ 75.57944434, 239.33384032],\n",
       "       [ 60.79854323, 111.89901517],\n",
       "       [ 66.14773847, 183.93507009],\n",
       "       [ 66.2973454 , 165.01495588],\n",
       "       [ 71.29393137, 202.94477109],\n",
       "       [ 70.35001534, 202.23721374],\n",
       "       [ 70.97649076, 199.80988146],\n",
       "       [ 62.59427026, 123.73998528],\n",
       "       [ 58.65644436, 110.01287287],\n",
       "       [ 67.95083753, 178.70206103],\n",
       "       [ 69.99428992, 212.05698067],\n",
       "       [ 68.23795231, 173.26397426],\n",
       "       [ 61.10420513, 133.18409983],\n",
       "       [ 70.55733811, 204.28020272],\n",
       "       [ 58.06155297, 113.06072035],\n",
       "       [ 61.45527924, 101.80110456],\n",
       "       [ 69.43688968, 170.13885668],\n",
       "       [ 63.57207387, 139.18975464],\n",
       "       [ 67.12928651, 177.71979901],\n",
       "       [ 66.66262718, 151.22461965],\n",
       "       [ 62.27340148, 154.28069072],\n",
       "       [ 65.78872979, 174.58487994],\n",
       "       [ 64.79542925, 152.91826503],\n",
       "       [ 65.55142428, 175.89862688],\n",
       "       [ 61.773522  , 149.51483917],\n",
       "       [ 67.5683852 , 186.05672916],\n",
       "       [ 63.41876337, 150.85691042],\n",
       "       [ 72.50942559, 206.74917089],\n",
       "       [ 60.44224974, 123.73040668],\n",
       "       [ 65.49726246, 175.42724782],\n",
       "       [ 68.91988117, 189.91857107],\n",
       "       [ 59.48142007, 108.89581284],\n",
       "       [ 62.62808294, 121.72475298],\n",
       "       [ 66.49982259, 162.62432733],\n",
       "       [ 66.0745536 , 178.3320496 ],\n",
       "       [ 63.61871729, 162.67497518],\n",
       "       [ 70.44779166, 199.38345289],\n",
       "       [ 65.61873688, 151.50038929],\n",
       "       [ 63.00872527, 127.54175001],\n",
       "       [ 60.05135799, 124.6791499 ],\n",
       "       [ 67.90361205, 177.35258975],\n",
       "       [ 69.55887982, 196.48084801],\n",
       "       [ 63.73111285, 135.59859219],\n",
       "       [ 67.14365457, 182.60913921],\n",
       "       [ 64.7519358 , 138.39317736],\n",
       "       [ 75.20597361, 228.76178062],\n",
       "       [ 63.50082576, 126.8605826 ],\n",
       "       [ 64.96709452, 134.72496613],\n",
       "       [ 61.70639378, 110.92334427],\n",
       "       [ 64.36336769, 139.88086471],\n",
       "       [ 62.5541763 , 113.44903773],\n",
       "       [ 73.54269461, 206.10036722],\n",
       "       [ 74.44660762, 213.70137701],\n",
       "       [ 62.53713921, 159.6459962 ],\n",
       "       [ 64.52718203, 132.68086824],\n",
       "       [ 68.53477063, 186.7031045 ],\n",
       "       [ 64.94854695, 141.68974535],\n",
       "       [ 66.06276486, 160.29225056],\n",
       "       [ 61.40597855, 125.00610362],\n",
       "       [ 74.11788216, 217.35413724],\n",
       "       [ 62.39138263, 125.63511501],\n",
       "       [ 70.00488668, 187.71678003],\n",
       "       [ 67.12315343, 147.53795616],\n",
       "       [ 69.14689434, 202.24248533],\n",
       "       [ 59.27965397,  86.89071184],\n",
       "       [ 70.59372691, 217.64414933],\n",
       "       [ 70.37993201, 189.71705427],\n",
       "       [ 64.05962301, 161.01515459],\n",
       "       [ 70.65445541, 158.78122312],\n",
       "       [ 62.72029367, 136.13554977],\n",
       "       [ 72.05664499, 220.13451714],\n",
       "       [ 68.12899058, 177.89733619],\n",
       "       [ 68.70425904, 184.27715879],\n",
       "       [ 72.46152792, 223.31551019],\n",
       "       [ 72.10029956, 206.22402692],\n",
       "       [ 71.47610128, 195.39261758],\n",
       "       [ 66.76546742, 168.07451193],\n",
       "       [ 71.10458935, 206.23974959],\n",
       "       [ 62.95232155, 134.73374561],\n",
       "       [ 69.5580519 , 181.32129749],\n",
       "       [ 67.94278509, 185.00960959],\n",
       "       [ 72.11864675, 210.90743578],\n",
       "       [ 71.93588658, 202.04642515],\n",
       "       [ 61.62638654, 108.38145393],\n",
       "       [ 70.50596537, 214.26941397],\n",
       "       [ 68.78508125, 183.9278886 ],\n",
       "       [ 67.42170287, 181.11234908],\n",
       "       [ 70.79827074, 198.38800081],\n",
       "       [ 71.18238327, 204.65740361],\n",
       "       [ 65.28601781, 143.37307717],\n",
       "       [ 69.01973611, 186.28799199],\n",
       "       [ 64.39582837, 145.39863232],\n",
       "       [ 65.51390658, 162.72984842],\n",
       "       [ 67.47116994, 181.55299172],\n",
       "       [ 73.52231093, 212.86609917],\n",
       "       [ 68.02379965, 180.12853238],\n",
       "       [ 72.43374602, 200.08523252],\n",
       "       [ 74.14785747, 211.23796795],\n",
       "       [ 65.28602551, 161.42008166],\n",
       "       [ 69.57691046, 182.88871335],\n",
       "       [ 62.89483969, 129.94321202],\n",
       "       [ 62.48569113, 116.46080685],\n",
       "       [ 69.64340765, 195.03370053],\n",
       "       [ 71.83446614, 208.69323555],\n",
       "       [ 71.5392985 , 207.30791661],\n",
       "       [ 70.22164729, 203.99531684],\n",
       "       [ 62.36109238, 148.71396011],\n",
       "       [ 69.86888284, 195.71469297],\n",
       "       [ 74.56873173, 234.80917963],\n",
       "       [ 76.02134748, 235.92606065],\n",
       "       [ 69.68208839, 187.57605161],\n",
       "       [ 70.17695539, 189.20685067],\n",
       "       [ 65.50869485, 164.44277841],\n",
       "       [ 67.91505019, 174.11592908],\n",
       "       [ 63.75602373, 148.87832287],\n",
       "       [ 63.81881928, 126.73899989],\n",
       "       [ 68.09887366, 173.8962369 ],\n",
       "       [ 67.67287524, 173.80741833],\n",
       "       [ 69.81029132, 199.68198104],\n",
       "       [ 70.36731416, 202.57158024],\n",
       "       [ 66.20542779, 151.0205523 ],\n",
       "       [ 71.20165968, 210.16987015],\n",
       "       [ 69.97894082, 193.34108282],\n",
       "       [ 71.19658688, 191.68384248],\n",
       "       [ 64.30019583, 129.48334207],\n",
       "       [ 62.53423005, 126.16245834],\n",
       "       [ 68.59195403, 196.18400534],\n",
       "       [ 61.78904379, 123.14073092],\n",
       "       [ 61.66236713, 122.70878914],\n",
       "       [ 60.85754286, 139.2460018 ],\n",
       "       [ 74.0407799 , 217.12268625],\n",
       "       [ 63.57140424, 130.85417255],\n",
       "       [ 68.89009494, 194.68143464],\n",
       "       [ 65.06141389, 131.58892934],\n",
       "       [ 58.40690493, 121.33832256],\n",
       "       [ 68.17953269, 169.78776808],\n",
       "       [ 70.89117344, 182.2837059 ],\n",
       "       [ 60.4147505 , 124.70668985],\n",
       "       [ 67.63212777, 164.86760521],\n",
       "       [ 62.67520824, 109.14760592],\n",
       "       [ 66.27613841, 174.20976412],\n",
       "       [ 74.15306451, 212.27632784],\n",
       "       [ 64.47761515, 144.63824569],\n",
       "       [ 70.31094431, 196.74978781],\n",
       "       [ 68.35948256, 175.26086443],\n",
       "       [ 66.91783007, 181.59241716],\n",
       "       [ 64.70056981, 146.40267696],\n",
       "       [ 67.40316149, 154.25906846],\n",
       "       [ 64.21697248, 154.44660485],\n",
       "       [ 66.65652059, 172.93795794],\n",
       "       [ 67.75511785, 162.90724293],\n",
       "       [ 66.50028416, 164.21237806],\n",
       "       [ 59.79586097, 118.75404058],\n",
       "       [ 74.97695265, 248.84887266],\n",
       "       [ 65.96527421, 148.80059805],\n",
       "       [ 69.80727521, 217.18974146],\n",
       "       [ 69.89381359, 200.79685448],\n",
       "       [ 62.13408192, 132.31545691],\n",
       "       [ 71.27946177, 209.90013071],\n",
       "       [ 70.93325026, 213.24499795],\n",
       "       [ 72.43261756, 204.56447901],\n",
       "       [ 60.79888561, 128.39022103],\n",
       "       [ 68.39010874, 179.35218164],\n",
       "       [ 68.3382369 , 182.67604165],\n",
       "       [ 71.70123402, 193.09416354],\n",
       "       [ 62.30830097, 120.67100946],\n",
       "       [ 69.90708058, 183.28080671],\n",
       "       [ 63.10335815, 131.79446306],\n",
       "       [ 66.66110311, 184.47044282],\n",
       "       [ 64.28159841, 135.96614607],\n",
       "       [ 67.25995282, 186.32079719],\n",
       "       [ 63.38506146, 139.18335539],\n",
       "       [ 63.75082807, 154.66600865],\n",
       "       [ 68.26273943, 183.07895338],\n",
       "       [ 70.50592738, 206.44094248],\n",
       "       [ 66.37704247, 151.30918007],\n",
       "       [ 72.58737482, 189.10404571],\n",
       "       [ 62.16084929, 118.51231085],\n",
       "       [ 66.30654984, 154.90498631],\n",
       "       [ 64.98085002, 151.44973742],\n",
       "       [ 69.78016415, 191.9591286 ],\n",
       "       [ 66.77415209, 143.76153693],\n",
       "       [ 70.83715856, 201.4034024 ],\n",
       "       [ 63.76781473, 134.75163682],\n",
       "       [ 70.15601265, 185.25782271],\n",
       "       [ 67.92221313, 177.02133476],\n",
       "       [ 66.35290827, 172.30139395],\n",
       "       [ 60.84686273,  97.72460188],\n",
       "       [ 70.41969377, 190.84049878],\n",
       "       [ 64.80668583, 138.48521772],\n",
       "       [ 63.46261983, 126.68984544],\n",
       "       [ 63.80504283, 131.40224704],\n",
       "       [ 61.49685745, 125.41346329],\n",
       "       [ 69.59482623, 191.52596496],\n",
       "       [ 63.68800241, 136.35341852],\n",
       "       [ 71.05995586, 189.32467071],\n",
       "       [ 70.96336883, 178.55119126],\n",
       "       [ 66.37021361, 149.47895335],\n",
       "       [ 63.80648172, 122.77940022],\n",
       "       [ 72.54885198, 203.62758374],\n",
       "       [ 70.76459833, 188.79245692],\n",
       "       [ 70.3524998 , 185.86459461],\n",
       "       [ 62.41722658, 130.79569939],\n",
       "       [ 64.23628706, 141.02229398],\n",
       "       [ 64.68023132, 176.07422302],\n",
       "       [ 65.04122759, 140.4657351 ],\n",
       "       [ 62.45074489, 138.80165645],\n",
       "       [ 63.37101299, 139.29993458],\n",
       "       [ 71.33434891, 184.52003699],\n",
       "       [ 71.33055367, 198.4232792 ],\n",
       "       [ 71.02654346, 186.22923841],\n",
       "       [ 74.10455886, 215.75970352],\n",
       "       [ 69.38466094, 198.51660664],\n",
       "       [ 74.60459137, 227.69898285],\n",
       "       [ 66.53430651, 166.371258  ],\n",
       "       [ 61.99156105, 129.32153044],\n",
       "       [ 68.75379072, 175.36796992],\n",
       "       [ 63.6553172 , 148.23801173],\n",
       "       [ 58.41716345,  96.422171  ],\n",
       "       [ 64.5172152 , 139.01268387],\n",
       "       [ 67.65689279, 192.12152398],\n",
       "       [ 62.4557193 , 138.36076518],\n",
       "       [ 76.43455871, 228.87299064],\n",
       "       [ 59.6678488 , 126.35525568],\n",
       "       [ 61.5508608 , 122.88343744],\n",
       "       [ 69.22708106, 185.91602145],\n",
       "       [ 59.02595339, 116.81151174],\n",
       "       [ 68.88599177, 164.21490258],\n",
       "       [ 68.13127094, 175.01764959],\n",
       "       [ 64.52899794, 131.12079074],\n",
       "       [ 65.8952151 , 151.18369901],\n",
       "       [ 66.87497089, 146.05797237],\n",
       "       [ 64.41866417, 159.9511096 ],\n",
       "       [ 66.70007476, 135.85600782],\n",
       "       [ 62.85233176, 145.31549709],\n",
       "       [ 63.12804299, 136.5928005 ],\n",
       "       [ 70.58261033, 206.42574825],\n",
       "       [ 71.06410538, 200.68415964],\n",
       "       [ 69.75421359, 193.45998112],\n",
       "       [ 60.54259479, 134.71342841],\n",
       "       [ 72.43632383, 211.94271782],\n",
       "       [ 64.97071847, 166.75311089],\n",
       "       [ 66.44921828, 152.4826103 ],\n",
       "       [ 64.39091597, 138.47177688],\n",
       "       [ 64.33079481, 145.50700953],\n",
       "       [ 64.74579099, 147.31886595],\n",
       "       [ 64.48709509, 130.65213087],\n",
       "       [ 66.97515201, 188.02471807],\n",
       "       [ 68.10600207, 186.58253643],\n",
       "       [ 73.4628048 , 223.07017787],\n",
       "       [ 73.18104362, 213.84745287],\n",
       "       [ 62.98598049, 129.44923863],\n",
       "       [ 67.04766973, 173.81637396],\n",
       "       [ 67.68753064, 177.90968502],\n",
       "       [ 70.4417673 , 194.9017702 ],\n",
       "       [ 63.66625541, 137.07933604],\n",
       "       [ 61.87815686, 101.52523574],\n",
       "       [ 62.56500845, 144.72494729],\n",
       "       [ 66.42974147, 191.94648843],\n",
       "       [ 62.62197768, 106.0013492 ],\n",
       "       [ 63.71115258, 140.61945107],\n",
       "       [ 71.35947191, 197.47265556],\n",
       "       [ 62.16896926, 147.85965336],\n",
       "       [ 72.09919305, 212.84561176],\n",
       "       [ 64.67107555, 160.18853134],\n",
       "       [ 65.9919773 , 155.41413904],\n",
       "       [ 64.45981425, 161.37877321],\n",
       "       [ 64.06078715, 131.30769088],\n",
       "       [ 62.17833122, 145.89884237],\n",
       "       [ 65.22313622, 129.13606946],\n",
       "       [ 64.46041403, 138.5374814 ],\n",
       "       [ 66.37399493, 167.78439103],\n",
       "       [ 64.3285802 , 163.97723793],\n",
       "       [ 65.85757738, 174.76342166],\n",
       "       [ 66.66977504, 180.46874185],\n",
       "       [ 66.25192308, 124.01991683],\n",
       "       [ 65.45803071, 173.81626111],\n",
       "       [ 68.13972419, 174.15780434],\n",
       "       [ 62.30249658, 128.38710926],\n",
       "       [ 64.08353972, 134.31371341],\n",
       "       [ 67.13851673, 155.01693786],\n",
       "       [ 72.36993359, 224.60381067],\n",
       "       [ 70.47139727, 198.41913848],\n",
       "       [ 62.99508412, 140.45052115],\n",
       "       [ 64.97873068, 135.2068733 ],\n",
       "       [ 66.68445873, 151.354625  ],\n",
       "       [ 66.47127526, 172.77372293],\n",
       "       [ 69.60482757, 191.03341962],\n",
       "       [ 63.57314268, 128.55849629],\n",
       "       [ 70.80982653, 203.97841773],\n",
       "       [ 67.74236194, 162.30866558],\n",
       "       [ 72.00328044, 207.54212079],\n",
       "       [ 71.35078258, 213.3133192 ],\n",
       "       [ 64.36759095, 126.51911913],\n",
       "       [ 65.30476865, 143.27097588],\n",
       "       [ 66.35133111, 171.68516965],\n",
       "       [ 60.62639435, 128.6173807 ],\n",
       "       [ 68.28704173, 170.4136025 ],\n",
       "       [ 67.6727949 , 183.73994786],\n",
       "       [ 68.20968309, 174.32182873],\n",
       "       [ 63.63351404, 144.97469669],\n",
       "       [ 61.22682866, 153.52097863],\n",
       "       [ 62.67538949, 134.18257669],\n",
       "       [ 72.45072137, 201.91956313],\n",
       "       [ 66.08468413, 165.48407177],\n",
       "       [ 73.02420563, 205.28149318],\n",
       "       [ 67.21296416, 165.07888498],\n",
       "       [ 64.65917931, 134.80847839],\n",
       "       [ 73.4053574 , 209.2607585 ],\n",
       "       [ 62.70103375, 121.77155501],\n",
       "       [ 72.0057094 , 205.96192249],\n",
       "       [ 64.48508857, 133.32258136],\n",
       "       [ 69.09620299, 180.78017477],\n",
       "       [ 64.33765677, 135.04390109],\n",
       "       [ 63.73104817, 160.34490387],\n",
       "       [ 61.86561243, 136.39011743],\n",
       "       [ 69.26275904, 206.73353095],\n",
       "       [ 63.07117837, 145.87063734],\n",
       "       [ 63.55211992, 131.2986446 ],\n",
       "       [ 67.76078743, 178.82034015],\n",
       "       [ 66.55735663, 153.37262609],\n",
       "       [ 67.71387279, 163.33444992],\n",
       "       [ 63.29271228, 129.00146171],\n",
       "       [ 63.65529651, 128.28343093],\n",
       "       [ 59.25272547, 139.14081229],\n",
       "       [ 62.47225794, 120.16913325],\n",
       "       [ 57.25811736, 101.71418214],\n",
       "       [ 70.80193026, 193.39354261],\n",
       "       [ 64.6264021 , 135.89446221],\n",
       "       [ 67.17293183, 165.02628446],\n",
       "       [ 62.20503763, 122.91788185],\n",
       "       [ 73.07711958, 210.21013723],\n",
       "       [ 65.49816904, 132.30801123],\n",
       "       [ 62.32308708, 127.13091303],\n",
       "       [ 67.3942812 , 168.52074321],\n",
       "       [ 63.32285136, 130.87511586],\n",
       "       [ 62.59053471, 119.54159425],\n",
       "       [ 63.55140316, 129.16202485],\n",
       "       [ 76.70983486, 235.03541882],\n",
       "       [ 64.5875217 , 150.8170365 ],\n",
       "       [ 66.08944952, 166.50664088],\n",
       "       [ 67.2953506 , 189.80976136],\n",
       "       [ 68.34684231, 198.92097967],\n",
       "       [ 64.33410686, 138.73944519],\n",
       "       [ 67.72149217, 177.66375596],\n",
       "       [ 66.92766897, 169.53512112],\n",
       "       [ 78.46205292, 227.34256488],\n",
       "       [ 60.94956167, 114.79140103],\n",
       "       [ 66.20571522, 167.62965984],\n",
       "       [ 62.75287752, 149.75970602],\n",
       "       [ 68.26964759, 172.07730473],\n",
       "       [ 66.80584984, 176.56581856],\n",
       "       [ 70.02025271, 167.31235853],\n",
       "       [ 64.87420147, 172.8187161 ],\n",
       "       [ 63.93068684, 141.20601208],\n",
       "       [ 69.95734172, 191.49552652],\n",
       "       [ 70.95804927, 201.66333732],\n",
       "       [ 66.3401    , 163.00127417],\n",
       "       [ 75.26320153, 223.4499947 ],\n",
       "       [ 70.51041016, 174.88488436],\n",
       "       [ 64.42536943, 151.56425556],\n",
       "       [ 73.19300841, 206.75050392],\n",
       "       [ 62.76807352, 133.20702022],\n",
       "       [ 61.61238161, 117.10315483],\n",
       "       [ 67.70062148, 155.72668268],\n",
       "       [ 73.80176657, 218.97972575],\n",
       "       [ 64.1217767 , 136.86050776],\n",
       "       [ 65.93409034, 157.70669372],\n",
       "       [ 67.19651912, 179.20919476],\n",
       "       [ 70.59577771, 197.31456407],\n",
       "       [ 66.17869772, 151.8282793 ],\n",
       "       [ 63.73878465, 136.20402407],\n",
       "       [ 60.05671104, 112.3276295 ],\n",
       "       [ 72.33347601, 210.96444052],\n",
       "       [ 68.67139105, 170.43187337],\n",
       "       [ 66.41178938, 160.44714497],\n",
       "       [ 68.59666269, 180.83123776],\n",
       "       [ 67.99079573, 172.21764889],\n",
       "       [ 71.25241746, 196.31716423],\n",
       "       [ 71.12075332, 197.34543603],\n",
       "       [ 76.02708186, 232.31347097],\n",
       "       [ 66.29541413, 134.61534386],\n",
       "       [ 69.79008942, 194.40073536],\n",
       "       [ 61.89365652, 117.64610293],\n",
       "       [ 64.25806779, 122.93723488],\n",
       "       [ 58.30026837,  95.12140347],\n",
       "       [ 63.46166489, 128.95096085],\n",
       "       [ 68.18615715, 184.09523738],\n",
       "       [ 60.62363512, 136.65605475],\n",
       "       [ 65.40630085, 158.05536573],\n",
       "       [ 62.71797937, 113.62206576],\n",
       "       [ 67.17976088, 159.3186434 ],\n",
       "       [ 68.06434894, 188.37574625],\n",
       "       [ 69.85933144, 202.80597509],\n",
       "       [ 63.60802085, 136.6427397 ],\n",
       "       [ 66.63104094, 170.42114933],\n",
       "       [ 60.63022564, 121.42118982],\n",
       "       [ 66.97101417, 166.39838713],\n",
       "       [ 68.97979381, 195.12214753],\n",
       "       [ 66.98662592, 163.57333636],\n",
       "       [ 72.04988987, 200.20282851],\n",
       "       [ 65.60557537, 136.14374895],\n",
       "       [ 66.04426807, 170.79874387],\n",
       "       [ 64.1643366 , 139.64470024],\n",
       "       [ 63.66911294, 141.91493075],\n",
       "       [ 74.31700799, 229.56547794],\n",
       "       [ 69.26367868, 196.37578184],\n",
       "       [ 71.89704464, 216.05305151],\n",
       "       [ 64.71270575, 141.33180343],\n",
       "       [ 62.89459879, 120.61674029],\n",
       "       [ 66.24759159, 163.57702862],\n",
       "       [ 68.92530884, 200.06000346],\n",
       "       [ 61.07521028, 120.51588667],\n",
       "       [ 63.69029962, 132.97111038],\n",
       "       [ 68.31251969, 186.12000239],\n",
       "       [ 68.37545273, 163.80974576],\n",
       "       [ 66.63469083, 190.46795878],\n",
       "       [ 72.92187099, 209.74879889],\n",
       "       [ 71.96959796, 210.49400325],\n",
       "       [ 63.91657834, 156.77858596],\n",
       "       [ 68.08498674, 183.32903347],\n",
       "       [ 60.24335877, 131.66111017],\n",
       "       [ 65.06514463, 156.16312686],\n",
       "       [ 63.37904055, 123.91387207],\n",
       "       [ 64.45631224, 144.85069843],\n",
       "       [ 61.07697273, 127.08976537],\n",
       "       [ 66.98698013, 155.33023439],\n",
       "       [ 64.48592703, 132.95356373],\n",
       "       [ 60.57136411, 135.07847028],\n",
       "       [ 68.05983891, 176.24442031],\n",
       "       [ 67.51869267, 170.33088921],\n",
       "       [ 66.88131426, 173.55464512],\n",
       "       [ 61.74144776, 130.80493325],\n",
       "       [ 67.12697725, 145.75991412],\n",
       "       [ 67.6194866 , 194.51881945],\n",
       "       [ 66.37565644, 175.69135527],\n",
       "       [ 68.46621101, 192.53334015],\n",
       "       [ 71.17416258, 209.21632094],\n",
       "       [ 68.73298815, 179.20478207],\n",
       "       [ 68.4840293 , 180.89628658],\n",
       "       [ 65.56962908, 138.00202618],\n",
       "       [ 72.08529953, 210.63652377],\n",
       "       [ 63.7848706 , 134.22837127],\n",
       "       [ 69.32231674, 208.98497088],\n",
       "       [ 70.03715822, 199.49912422],\n",
       "       [ 69.19026386, 164.04458502],\n",
       "       [ 69.94763631, 188.31496969],\n",
       "       [ 69.55476188, 192.18166874],\n",
       "       [ 60.98528933, 120.0358457 ],\n",
       "       [ 66.34693509, 156.78940198],\n",
       "       [ 65.48405277, 144.41007047],\n",
       "       [ 71.61647581, 208.33931163],\n",
       "       [ 67.00855387, 151.33389889],\n",
       "       [ 68.45675437, 185.53402111],\n",
       "       [ 72.83768488, 212.20403957],\n",
       "       [ 58.16246304, 105.14702455],\n",
       "       [ 69.86896981, 201.83704259],\n",
       "       [ 67.83993094, 166.14610859],\n",
       "       [ 63.84405984, 140.00823805],\n",
       "       [ 69.33966738, 181.90482401],\n",
       "       [ 71.79252376, 199.89850036],\n",
       "       [ 63.9056158 , 136.85241312],\n",
       "       [ 66.07110689, 152.42003134],\n",
       "       [ 61.25357895, 109.6817579 ],\n",
       "       [ 62.900484  , 151.55766765],\n",
       "       [ 71.1257544 , 205.63604956],\n",
       "       [ 65.2236633 , 139.55085048],\n",
       "       [ 69.60829847, 181.55860335],\n",
       "       [ 62.86797761, 122.78181596],\n",
       "       [ 61.53011039, 106.3043173 ],\n",
       "       [ 70.57681413, 198.18271787],\n",
       "       [ 60.94684623, 136.65584108],\n",
       "       [ 68.61738735, 179.1320246 ],\n",
       "       [ 61.92783047, 116.79255657],\n",
       "       [ 63.97147267, 150.37740474],\n",
       "       [ 66.47556185, 197.64640925],\n",
       "       [ 66.69736773, 143.62454758],\n",
       "       [ 66.89411123, 140.34606065],\n",
       "       [ 66.55658687, 185.04232408],\n",
       "       [ 60.43596416, 118.09886657],\n",
       "       [ 68.32791586, 207.78492465],\n",
       "       [ 57.13730096,  99.10849926],\n",
       "       [ 64.05697554, 139.43619677],\n",
       "       [ 70.03067329, 198.69629855],\n",
       "       [ 61.62199211, 123.23376623],\n",
       "       [ 61.95376528, 139.48034521],\n",
       "       [ 67.88188946, 203.45486863],\n",
       "       [ 66.89562967, 151.53128338],\n",
       "       [ 65.38991636, 140.72009289],\n",
       "       [ 63.61928907, 138.50877044]])"
      ]
     },
     "execution_count": 94,
     "metadata": {},
     "output_type": "execute_result"
    }
   ],
   "source": [
    "Xtr"
   ]
  },
  {
   "cell_type": "markdown",
   "metadata": {},
   "source": [
    "We can plot the probability contours: these are rather tight!"
   ]
  },
  {
   "cell_type": "code",
   "execution_count": 96,
   "metadata": {},
   "outputs": [
    {
     "name": "stderr",
     "output_type": "stream",
     "text": [
      "C:\\ProgramData\\Anaconda3\\lib\\site-packages\\ipykernel_launcher.py:8: UserWarning: The following kwargs were not used by contour: 'axes'\n",
      "  \n",
      "C:\\ProgramData\\Anaconda3\\lib\\site-packages\\ipykernel_launcher.py:9: UserWarning: The following kwargs were not used by contour: 'axes'\n",
      "  if __name__ == '__main__':\n"
     ]
    },
    {
     "data": {
      "image/png": "[encoded data removed]",
      "text/plain": [
       "<Figure size 864x648 with 1 Axes>"
      ]
     },
     "metadata": {
      "needs_background": "light"
     },
     "output_type": "display_data"
    }
   ],
   "source": [
    "plt.figure(figsize=(12,9))\n",
    "ax=plt.gca()\n",
    "points_plot(ax, Xtrain, Xtest, ytrain, ytest, clflog, mesh=False, alpha=0.001);\n",
    "points_plot_prob(ax, Xtrain, Xtest, ytrain, ytest, clflog);"
   ]
  },
  {
   "cell_type": "markdown",
   "metadata": {},
   "source": [
    "The score function of the estimator is used to evaluate a parameter setting. These are the sklearn.metrics.accuracy_score for classification and sklearn.metrics.r2_score for regression. For some applications, other scoring functions are better suited (for example in unbalanced classification, the accuracy score is often uninformative). We can pass other scorers to `GridSearchCV`."
   ]
  },
  {
   "cell_type": "code",
   "execution_count": 119,
   "metadata": {},
   "outputs": [
    {
     "ename": "NotFittedError",
     "evalue": "This LogisticRegression instance is not fitted yet",
     "output_type": "error",
     "traceback": [
      "\u001b[1;31m---------------------------------------------------------------------------\u001b[0m",
      "\u001b[1;31mNotFittedError\u001b[0m                            Traceback (most recent call last)",
      "\u001b[1;32m<ipython-input-119-c9bf4d20d4e1>\u001b[0m in \u001b[0;36m<module>\u001b[1;34m\u001b[0m\n\u001b[1;32m----> 1\u001b[1;33m \u001b[0mclflog\u001b[0m\u001b[1;33m.\u001b[0m\u001b[0mscore\u001b[0m\u001b[1;33m(\u001b[0m\u001b[0mXtest\u001b[0m\u001b[1;33m,\u001b[0m \u001b[0mytest\u001b[0m\u001b[1;33m)\u001b[0m\u001b[1;33m\u001b[0m\u001b[1;33m\u001b[0m\u001b[0m\n\u001b[0m",
      "\u001b[1;32mC:\\ProgramData\\Anaconda3\\lib\\site-packages\\sklearn\\base.py\u001b[0m in \u001b[0;36mscore\u001b[1;34m(self, X, y, sample_weight)\u001b[0m\n\u001b[0;32m    355\u001b[0m         \"\"\"\n\u001b[0;32m    356\u001b[0m         \u001b[1;32mfrom\u001b[0m \u001b[1;33m.\u001b[0m\u001b[0mmetrics\u001b[0m \u001b[1;32mimport\u001b[0m \u001b[0maccuracy_score\u001b[0m\u001b[1;33m\u001b[0m\u001b[1;33m\u001b[0m\u001b[0m\n\u001b[1;32m--> 357\u001b[1;33m         \u001b[1;32mreturn\u001b[0m \u001b[0maccuracy_score\u001b[0m\u001b[1;33m(\u001b[0m\u001b[0my\u001b[0m\u001b[1;33m,\u001b[0m \u001b[0mself\u001b[0m\u001b[1;33m.\u001b[0m\u001b[0mpredict\u001b[0m\u001b[1;33m(\u001b[0m\u001b[0mX\u001b[0m\u001b[1;33m)\u001b[0m\u001b[1;33m,\u001b[0m \u001b[0msample_weight\u001b[0m\u001b[1;33m=\u001b[0m\u001b[0msample_weight\u001b[0m\u001b[1;33m)\u001b[0m\u001b[1;33m\u001b[0m\u001b[1;33m\u001b[0m\u001b[0m\n\u001b[0m\u001b[0;32m    358\u001b[0m \u001b[1;33m\u001b[0m\u001b[0m\n\u001b[0;32m    359\u001b[0m \u001b[1;33m\u001b[0m\u001b[0m\n",
      "\u001b[1;32mC:\\ProgramData\\Anaconda3\\lib\\site-packages\\sklearn\\linear_model\\base.py\u001b[0m in \u001b[0;36mpredict\u001b[1;34m(self, X)\u001b[0m\n\u001b[0;32m    287\u001b[0m             \u001b[0mPredicted\u001b[0m \u001b[1;32mclass\u001b[0m \u001b[0mlabel\u001b[0m \u001b[0mper\u001b[0m \u001b[0msample\u001b[0m\u001b[1;33m.\u001b[0m\u001b[1;33m\u001b[0m\u001b[1;33m\u001b[0m\u001b[0m\n\u001b[0;32m    288\u001b[0m         \"\"\"\n\u001b[1;32m--> 289\u001b[1;33m         \u001b[0mscores\u001b[0m \u001b[1;33m=\u001b[0m \u001b[0mself\u001b[0m\u001b[1;33m.\u001b[0m\u001b[0mdecision_function\u001b[0m\u001b[1;33m(\u001b[0m\u001b[0mX\u001b[0m\u001b[1;33m)\u001b[0m\u001b[1;33m\u001b[0m\u001b[1;33m\u001b[0m\u001b[0m\n\u001b[0m\u001b[0;32m    290\u001b[0m         \u001b[1;32mif\u001b[0m \u001b[0mlen\u001b[0m\u001b[1;33m(\u001b[0m\u001b[0mscores\u001b[0m\u001b[1;33m.\u001b[0m\u001b[0mshape\u001b[0m\u001b[1;33m)\u001b[0m \u001b[1;33m==\u001b[0m \u001b[1;36m1\u001b[0m\u001b[1;33m:\u001b[0m\u001b[1;33m\u001b[0m\u001b[1;33m\u001b[0m\u001b[0m\n\u001b[0;32m    291\u001b[0m             \u001b[0mindices\u001b[0m \u001b[1;33m=\u001b[0m \u001b[1;33m(\u001b[0m\u001b[0mscores\u001b[0m \u001b[1;33m>\u001b[0m \u001b[1;36m0\u001b[0m\u001b[1;33m)\u001b[0m\u001b[1;33m.\u001b[0m\u001b[0mastype\u001b[0m\u001b[1;33m(\u001b[0m\u001b[0mnp\u001b[0m\u001b[1;33m.\u001b[0m\u001b[0mint\u001b[0m\u001b[1;33m)\u001b[0m\u001b[1;33m\u001b[0m\u001b[1;33m\u001b[0m\u001b[0m\n",
      "\u001b[1;32mC:\\ProgramData\\Anaconda3\\lib\\site-packages\\sklearn\\linear_model\\base.py\u001b[0m in \u001b[0;36mdecision_function\u001b[1;34m(self, X)\u001b[0m\n\u001b[0;32m    261\u001b[0m         \u001b[1;32mif\u001b[0m \u001b[1;32mnot\u001b[0m \u001b[0mhasattr\u001b[0m\u001b[1;33m(\u001b[0m\u001b[0mself\u001b[0m\u001b[1;33m,\u001b[0m \u001b[1;34m'coef_'\u001b[0m\u001b[1;33m)\u001b[0m \u001b[1;32mor\u001b[0m \u001b[0mself\u001b[0m\u001b[1;33m.\u001b[0m\u001b[0mcoef_\u001b[0m \u001b[1;32mis\u001b[0m \u001b[1;32mNone\u001b[0m\u001b[1;33m:\u001b[0m\u001b[1;33m\u001b[0m\u001b[1;33m\u001b[0m\u001b[0m\n\u001b[0;32m    262\u001b[0m             raise NotFittedError(\"This %(name)s instance is not fitted \"\n\u001b[1;32m--> 263\u001b[1;33m                                  \"yet\" % {'name': type(self).__name__})\n\u001b[0m\u001b[0;32m    264\u001b[0m \u001b[1;33m\u001b[0m\u001b[0m\n\u001b[0;32m    265\u001b[0m         \u001b[0mX\u001b[0m \u001b[1;33m=\u001b[0m \u001b[0mcheck_array\u001b[0m\u001b[1;33m(\u001b[0m\u001b[0mX\u001b[0m\u001b[1;33m,\u001b[0m \u001b[0maccept_sparse\u001b[0m\u001b[1;33m=\u001b[0m\u001b[1;34m'csr'\u001b[0m\u001b[1;33m)\u001b[0m\u001b[1;33m\u001b[0m\u001b[1;33m\u001b[0m\u001b[0m\n",
      "\u001b[1;31mNotFittedError\u001b[0m: This LogisticRegression instance is not fitted yet"
     ]
    }
   ],
   "source": [
    "clflog.score(Xtest, ytest)"
   ]
  },
  {
   "cell_type": "markdown",
   "metadata": {},
   "source": [
    "## The confusion Matrix"
   ]
  },
  {
   "cell_type": "markdown",
   "metadata": {},
   "source": [
    " A classifier will get some samples right, and some wrong. Generally we see which ones it gets right and which ones it gets wrong on the test set. There,\n",
    "\n",
    "- the samples that are +ive and the classifier predicts as +ive are called True Positives (TP)\n",
    "- the samples that are -ive and the classifier predicts (wrongly) as +ive are called False Positives (FP)\n",
    "- the samples that are -ive and the classifier predicts as -ive are called True Negatives (TN)\n",
    "- the samples that are +ive and the classifier predicts as -ive are called False Negatives (FN)\n",
    "\n",
    "A classifier produces a confusion matrix from these which lookslike this:\n",
    "\n",
    "![hwimages](./images/confusionmatrix.png)\n",
    "\n",
    "\n",
    "IMPORTANT NOTE: In sklearn, to obtain the confusion matrix in the form above, always have the observed `y` first, i.e.: use as `confusion_matrix(y_true, y_pred)`"
   ]
  },
  {
   "cell_type": "code",
   "execution_count": 98,
   "metadata": {},
   "outputs": [
    {
     "data": {
      "text/plain": [
       "array([[92, 14],\n",
       "       [ 3, 91]], dtype=int64)"
      ]
     },
     "execution_count": 98,
     "metadata": {},
     "output_type": "execute_result"
    }
   ],
   "source": [
    "confusion_matrix(ytest, clflog.predict(Xtest))"
   ]
  },
  {
   "cell_type": "markdown",
   "metadata": {},
   "source": [
    "Given these definitions, we typically calculate a few metrics for our classifier. First, the **True Positive Rate**:\n",
    "\n",
    "$$TPR = Recall = \\frac{TP}{OP} = \\frac{TP}{TP+FN},$$\n",
    "\n",
    "also called the Hit Rate: the fraction of observed positives (1s) the classifier gets right, or how many true positives were recalled. Maximizing the recall towards 1 means keeping down the false negative rate. In a classifier try to find cancer patients, this is the number we want to maximize.\n",
    "\n",
    "The **False Positive Rate** is defined as\n",
    "\n",
    "$$FPR = \\frac{FP}{ON} = \\frac{FP}{FP+TN},$$\n",
    "\n",
    "also called the False Alarm Rate, the fraction of observed negatives (0s) the classifier gets wrong. In general, you want this number to be low. Instead, you might want to maximize the\n",
    "**Precision**,which tells you how many of the predicted positive(1) hits were truly positive\n",
    "\n",
    "$$Precision = \\frac{TP}{PP} = \\frac{TP}{TP+FP}.$$\n",
    "\n",
    "Finally the **F1** score gives us the Harmonic Score of Precision and Recall. Many analysts will try and find a classifier that maximizes this score, since it tries to minimize both false positives and false negatives simultaneously, and is thus a bit more precise in what it is trying to do than the accuracy.\n",
    "\n",
    "$$F1 =  \\frac{2*Recall*Precision}{Recall + Precision}$$\n",
    "\n",
    "However, in a case like that of a cancer classifier, we will wish to minimize false nagatives at the expense of false positives: it is ok to send perfectly healthy patients for cancer folloup if that is the price we must pay for not missing any sick ones.\n",
    "\n",
    "`scikit-learn` helpfully gives us a classification report with all these numbers"
   ]
  },
  {
   "cell_type": "code",
   "execution_count": 99,
   "metadata": {},
   "outputs": [
    {
     "name": "stdout",
     "output_type": "stream",
     "text": [
      "              precision    recall  f1-score   support\n",
      "\n",
      "           0       0.97      0.87      0.92       106\n",
      "           1       0.87      0.97      0.91        94\n",
      "\n",
      "    accuracy                           0.92       200\n",
      "   macro avg       0.92      0.92      0.91       200\n",
      "weighted avg       0.92      0.92      0.92       200\n",
      "\n"
     ]
    }
   ],
   "source": [
    "from sklearn.metrics import classification_report\n",
    "print(classification_report(ytest, clflog.predict(Xtest)))"
   ]
  },
  {
   "cell_type": "markdown",
   "metadata": {},
   "source": [
    "#### The cancer doctor\n",
    "\n",
    "Do you really want to be setting a threshold of 0.5 probability to predict if a patient has cancer or not? The false negative problem: ie the chance you predict someone dosent have cancer who has cancer is much higher for such a threshold. You could kill someone by telling them not to get a biopsy. Why not play it safe and assume a much lower threshold: for eg, if the probability of 1(cancer) is greater than 0.05, we'll call it a 1.\n",
    "\n",
    "Write a function `t_repredict(est,t, Xtest)` which takes your classifier, a probability threshold, and a  features set in the canonical form, and returns a set of predictions."
   ]
  },
  {
   "cell_type": "code",
   "execution_count": 15,
   "metadata": {
    "collapsed": true
   },
   "outputs": [],
   "source": [
    "# your code here\n"
   ]
  },
  {
   "cell_type": "markdown",
   "metadata": {},
   "source": [
    "Print the confusion matrix to see how the false negatives get suppressed?"
   ]
  },
  {
   "cell_type": "code",
   "execution_count": 16,
   "metadata": {},
   "outputs": [],
   "source": [
    "# your code here\n"
   ]
  }
 ],
 "metadata": {
  "kernelspec": {
   "display_name": "Python 3",
   "language": "python",
   "name": "python3"
  },
  "language_info": {
   "codemirror_mode": {
    "name": "ipython",
    "version": 3
   },
   "file_extension": ".py",
   "mimetype": "text/x-python",
   "name": "python",
   "nbconvert_exporter": "python",
   "pygments_lexer": "ipython3",
   "version": "3.7.3"
  }
 },
 "nbformat": 4,
 "nbformat_minor": 2
}
