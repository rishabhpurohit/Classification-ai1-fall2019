{
 "cells": [
  {
   "cell_type": "markdown",
   "metadata": {},
   "source": [
    "# Classification, Probabilities, and the Confusion Matrix"
   ]
  },
  {
   "cell_type": "code",
   "execution_count": 12,
   "metadata": {},
   "outputs": [],
   "source": [
    "%matplotlib inline\n",
    "import numpy as np\n",
    "import scipy as sp\n",
    "import matplotlib as mpl\n",
    "import matplotlib.cm as cm\n",
    "import matplotlib.pyplot as plt\n",
    "import pandas as pd\n",
    "import seaborn.apionly as sns"
   ]
  },
  {
   "cell_type": "markdown",
   "metadata": {},
   "source": [
    "We are going to encapsulate some code into handy-dandy functions that we can use for easier model training using cross-validation"
   ]
  },
  {
   "cell_type": "code",
   "execution_count": 13,
   "metadata": {},
   "outputs": [],
   "source": [
    "from sklearn.model_selection import GridSearchCV\n",
    "from sklearn.model_selection import train_test_split\n",
    "from sklearn.metrics import confusion_matrix\n",
    "def cv_optimize(clf, parameters, X, y, n_jobs=1, n_folds=5, score_func=None):\n",
    "    if score_func:\n",
    "        gs = GridSearchCV(clf, param_grid=parameters, cv=n_folds, n_jobs=n_jobs, scoring=score_func)\n",
    "    else:\n",
    "        gs = GridSearchCV(clf, param_grid=parameters, n_jobs=n_jobs, cv=n_folds)\n",
    "    gs.fit(X, y)\n",
    "    print(\"BEST\", gs.best_params_, gs.best_score_)\n",
    "    best = gs.best_estimator_\n",
    "    return best\n",
    "def do_classify(clf, parameters, indf, featurenames, targetname, target1val,mode=\"mask\", reuse_split=None, score_func=None, n_folds=5, n_jobs=1):\n",
    "    \"\"\"\n",
    "    Classification made simple (or is it more complex?)\n",
    "    THIS WORKS FOR 2 Class Classification problems only\n",
    "    parameters: parameter grid in the sklearn style\n",
    "    indf: dataframe you feed in\n",
    "    featurenames: list of columnames corresponding to features you want in your model\n",
    "    targetname: the column you want to use as target\n",
    "    target1val: the value of the \"targetname\" column\n",
    "    mode: mask or split. mask a boolean mask to choose train/test or\n",
    "        split a dictionary with keys Xtrain/Xtest/ytrain/ytest and values existing\n",
    "        training and test sets in the canonical form\n",
    "    reuse_split: the actual mask above or the actuall ditionary, depending upon which\n",
    "        modu you chose\n",
    "    score_func: this is from GridSearchCV\n",
    "    n_folds: cross val folds\n",
    "    n_jobs: mumber of processes to use in cross-validation\n",
    "    \n",
    "    We return classifier, and the train and test sets. We print accuracies\n",
    "    and the confusion matrix\n",
    "    \"\"\"\n",
    "    subdf=indf[featurenames]\n",
    "    X=subdf.values\n",
    "    y=(indf[targetname].values==target1val)*1\n",
    "    if mode==\"mask\":\n",
    "        print(\"using mask\")\n",
    "        mask=reuse_split\n",
    "        Xtrain, Xtest, ytrain, ytest = X[mask], X[~mask], y[mask], y[~mask]\n",
    "    else:\n",
    "        print(\"using reuse split\")\n",
    "        Xtrain, Xtest, ytrain, ytest = reuse_split['Xtrain'], reuse_split['Xtest'], reuse_split['ytrain'], reuse_split['ytest']\n",
    "    if parameters:\n",
    "        clf = cv_optimize(clf, parameters, Xtrain, ytrain, n_jobs=n_jobs, n_folds=n_folds, score_func=score_func)\n",
    "    clf=clf.fit(Xtrain, ytrain)\n",
    "    training_accuracy = clf.score(Xtrain, ytrain)\n",
    "    test_accuracy = clf.score(Xtest, ytest)\n",
    "    print(\"############# based on standard predict ################\")\n",
    "    print(\"Accuracy on training data: %0.2f\" % (training_accuracy))\n",
    "    print(\"Accuracy on test data:     %0.2f\" % (test_accuracy))\n",
    "    print(confusion_matrix(ytest, clf.predict(Xtest)))\n",
    "    print(\"########################################################\")\n",
    "    return clf, Xtrain, ytrain, Xtest, ytest"
   ]
  },
  {
   "cell_type": "code",
   "execution_count": 14,
   "metadata": {},
   "outputs": [],
   "source": [
    "from matplotlib.colors import ListedColormap\n",
    "cmap_light = ListedColormap(['#FFAAAA', '#AAFFAA', '#AAAAFF'])\n",
    "cmap_bold = ListedColormap(['#FF0000', '#00FF00', '#0000FF'])\n",
    "cm = plt.cm.RdBu\n",
    "cm_bright = ListedColormap(['#FF0000', '#0000FF'])\n",
    "\n",
    "def points_plot(ax, Xtr, Xte, ytr, yte, clf, mesh=True, colorscale=cmap_light, cdiscrete=cmap_bold, alpha=0.3, psize=10, zfunc=False):\n",
    "    h = .02\n",
    "    X=np.concatenate((Xtr, Xte))\n",
    "    x_min, x_max = X[:, 0].min() - .5, X[:, 0].max() + .5\n",
    "    y_min, y_max = X[:, 1].min() - .5, X[:, 1].max() + .5\n",
    "    xx, yy = np.meshgrid(np.linspace(x_min, x_max, 100),\n",
    "                         np.linspace(y_min, y_max, 100))\n",
    "\n",
    "    #plt.figure(figsize=(10,6))\n",
    "    if mesh:\n",
    "        if zfunc:\n",
    "            p0 = clf.predict_proba(np.c_[xx.ravel(), yy.ravel()])[:, 0]\n",
    "            p1 = clf.predict_proba(np.c_[xx.ravel(), yy.ravel()])[:, 1]\n",
    "            Z=zfunc(p0, p1)\n",
    "        else:\n",
    "            Z = clf.predict(np.c_[xx.ravel(), yy.ravel()])\n",
    "        Z = Z.reshape(xx.shape)\n",
    "        plt.pcolormesh(xx, yy, Z, cmap=cmap_light, alpha=alpha, axes=ax)\n",
    "    ax.scatter(Xtr[:, 0], Xtr[:, 1], c=ytr-1, cmap=cmap_bold, s=psize, alpha=alpha,edgecolor=\"k\")\n",
    "    # and testing points\n",
    "    yact=clf.predict(Xte)\n",
    "    ax.scatter(Xte[:, 0], Xte[:, 1], c=yte-1, cmap=cmap_bold, alpha=alpha, marker=\"s\", s=psize+10)\n",
    "    ax.set_xlim(xx.min(), xx.max())\n",
    "    ax.set_ylim(yy.min(), yy.max())\n",
    "    return ax,xx,yy"
   ]
  },
  {
   "cell_type": "code",
   "execution_count": 15,
   "metadata": {},
   "outputs": [],
   "source": [
    "def points_plot_prob(ax, Xtr, Xte, ytr, yte, clf, colorscale=cmap_light, cdiscrete=cmap_bold, ccolor=cm, psize=10, alpha=0.1, prob=True):\n",
    "    ax,xx,yy = points_plot(ax, Xtr, Xte, ytr, yte, clf, mesh=False, colorscale=colorscale, cdiscrete=cdiscrete, psize=psize, alpha=alpha) \n",
    "    if prob:\n",
    "        Z = clf.predict_proba(np.c_[xx.ravel(), yy.ravel()])[:, 1]\n",
    "    else:\n",
    "        Z = clf.decision_function(np.c_[xx.ravel(), yy.ravel()])\n",
    "    Z = Z.reshape(xx.shape)\n",
    "    plt.contourf(xx, yy, Z, cmap=ccolor, alpha=.2, axes=ax)\n",
    "    cs2 = plt.contour(xx, yy, Z, cmap=ccolor, alpha=.6, axes=ax)\n",
    "    plt.clabel(cs2, fmt = '%2.1f', colors = 'k', fontsize=14)\n",
    "    return ax "
   ]
  },
  {
   "cell_type": "markdown",
   "metadata": {},
   "source": [
    "## Setting up the data\n",
    "\n",
    "(I encountered this dataset in Conway, Drew, and John White. Machine learning for hackers. \" O'Reilly Media, Inc.\", 2012.)"
   ]
  },
  {
   "cell_type": "code",
   "execution_count": 16,
   "metadata": {},
   "outputs": [
    {
     "data": {
      "text/html": [
       "<div>\n",
       "<style scoped>\n",
       "    .dataframe tbody tr th:only-of-type {\n",
       "        vertical-align: middle;\n",
       "    }\n",
       "\n",
       "    .dataframe tbody tr th {\n",
       "        vertical-align: top;\n",
       "    }\n",
       "\n",
       "    .dataframe thead th {\n",
       "        text-align: right;\n",
       "    }\n",
       "</style>\n",
       "<table border=\"1\" class=\"dataframe\">\n",
       "  <thead>\n",
       "    <tr style=\"text-align: right;\">\n",
       "      <th></th>\n",
       "      <th>Gender</th>\n",
       "      <th>Height</th>\n",
       "      <th>Weight</th>\n",
       "    </tr>\n",
       "  </thead>\n",
       "  <tbody>\n",
       "    <tr>\n",
       "      <th>0</th>\n",
       "      <td>Male</td>\n",
       "      <td>73.847017</td>\n",
       "      <td>241.893563</td>\n",
       "    </tr>\n",
       "    <tr>\n",
       "      <th>1</th>\n",
       "      <td>Male</td>\n",
       "      <td>68.781904</td>\n",
       "      <td>162.310473</td>\n",
       "    </tr>\n",
       "    <tr>\n",
       "      <th>2</th>\n",
       "      <td>Male</td>\n",
       "      <td>74.110105</td>\n",
       "      <td>212.740856</td>\n",
       "    </tr>\n",
       "    <tr>\n",
       "      <th>3</th>\n",
       "      <td>Male</td>\n",
       "      <td>71.730978</td>\n",
       "      <td>220.042470</td>\n",
       "    </tr>\n",
       "    <tr>\n",
       "      <th>4</th>\n",
       "      <td>Male</td>\n",
       "      <td>69.881796</td>\n",
       "      <td>206.349801</td>\n",
       "    </tr>\n",
       "  </tbody>\n",
       "</table>\n",
       "</div>"
      ],
      "text/plain": [
       "  Gender     Height      Weight\n",
       "0   Male  73.847017  241.893563\n",
       "1   Male  68.781904  162.310473\n",
       "2   Male  74.110105  212.740856\n",
       "3   Male  71.730978  220.042470\n",
       "4   Male  69.881796  206.349801"
      ]
     },
     "execution_count": 16,
     "metadata": {},
     "output_type": "execute_result"
    }
   ],
   "source": [
    "dfhw=pd.read_csv(\"data/01_heights_weights_genders.csv\")\n",
    "dfhw.head()"
   ]
  },
  {
   "cell_type": "markdown",
   "metadata": {},
   "source": [
    "We sample 500 points from 10,000, since we actually want to see trends clearly on the plots"
   ]
  },
  {
   "cell_type": "code",
   "execution_count": 17,
   "metadata": {},
   "outputs": [
    {
     "data": {
      "text/plain": [
       "266"
      ]
     },
     "execution_count": 17,
     "metadata": {},
     "output_type": "execute_result"
    }
   ],
   "source": [
    "df=dfhw.sample(500, replace=False)\n",
    "np.sum(df.Gender==\"Male\")"
   ]
  },
  {
   "cell_type": "markdown",
   "metadata": {},
   "source": [
    "We split the data into training and test sets...and setup a mask so we can reuse these splits later"
   ]
  },
  {
   "cell_type": "code",
   "execution_count": 18,
   "metadata": {},
   "outputs": [
    {
     "data": {
      "text/plain": [
       "array([ True,  True,  True,  True,  True, False, False, False,  True,\n",
       "       False])"
      ]
     },
     "execution_count": 18,
     "metadata": {},
     "output_type": "execute_result"
    }
   ],
   "source": [
    "itrain, itest = train_test_split(range(df.shape[0]), train_size=0.6)\n",
    "mask=np.ones(df.shape[0], dtype='int')\n",
    "mask[itrain]=1\n",
    "mask[itest]=0\n",
    "mask = (mask==1)\n",
    "mask[:10]"
   ]
  },
  {
   "cell_type": "markdown",
   "metadata": {},
   "source": [
    "## Logistic regression\n",
    "\n",
    "\n",
    "$$\n",
    "\\renewcommand{\\like}{{\\cal L}}\n",
    "\\renewcommand{\\loglike}{{\\ell}}\n",
    "\\renewcommand{\\err}{{\\cal E}}\n",
    "\\renewcommand{\\dat}{{\\cal D}}\n",
    "\\renewcommand{\\hyp}{{\\cal H}}\n",
    "\\renewcommand{\\Ex}[2]{E_{#1}[#2]}\n",
    "\\renewcommand{\\x}{{\\mathbf x}}\n",
    "\\renewcommand{\\v}[1]{{\\mathbf #1}}\n",
    "$$\n",
    "\n",
    "\n",
    "Previously, we saw the loss for Logistic regression and noted that it is a loss for probability estimation...and not a loss for making decisions. We'll go into these dual losses soon..\n",
    "\n",
    "$$R_{\\cal{D}}(h(x)) = -\\loglike = -log \\like = - log(P(y|\\v{x},\\v{w})).$$\n",
    "\n",
    "\n",
    "Thus\n",
    "\n",
    "\\begin{eqnarray*}\n",
    "R_{\\cal{D}}(h(x)) &=& -log\\left(\\prod_{y_i \\in \\cal{D}} h(\\v{w}\\cdot\\v{x_i})^{y_i} \\left(1 - h(\\v{w}\\cdot\\v{x_i}) \\right)^{(1-y_i)}\\right)\\\\\n",
    "                  &=& -\\sum_{y_i \\in \\cal{D}} log\\left(h(\\v{w}\\cdot\\v{x_i})^{y_i} \\left(1 - h(\\v{w}\\cdot\\v{x_i}) \\right)^{(1-y_i)}\\right)\\\\                  \n",
    "                  &=& -\\sum_{y_i \\in \\cal{D}} log\\,h(\\v{w}\\cdot\\v{x_i})^{y_i} + log\\,\\left(1 - h(\\v{w}\\cdot\\v{x_i}) \\right)^{(1-y_i)}\\\\\n",
    "                  &=& - \\sum_{y_i \\in \\cal{D}} \\left ( y_i log(h(\\v{w}\\cdot\\v{x})) + ( 1 - y_i) log(1 - h(\\v{w}\\cdot\\v{x})) \\right )\n",
    "\\end{eqnarray*}\n",
    "\n",
    "where\n",
    "\n",
    "$$h(z) = \\frac{1}{1 + e^{-z}}.$$\n",
    "\n"
   ]
  },
  {
   "cell_type": "markdown",
   "metadata": {},
   "source": [
    "Notice that its L2 regularized.... by default"
   ]
  },
  {
   "cell_type": "code",
   "execution_count": 19,
   "metadata": {},
   "outputs": [
    {
     "name": "stdout",
     "output_type": "stream",
     "text": [
      "using mask\n",
      "BEST {'C': 0.001} 0.91\n",
      "############# based on standard predict ################\n",
      "Accuracy on training data: 0.91\n",
      "Accuracy on test data:     0.88\n",
      "[[79 14]\n",
      " [11 96]]\n",
      "########################################################\n"
     ]
    }
   ],
   "source": [
    "from sklearn.linear_model import LogisticRegression\n",
    "parameters = {\"C\": [0.001, 0.01, 0.1, 1, 10, 100, 1000, 10000]}\n",
    "clflog = LogisticRegression(solver='lbfgs')\n",
    "clflog, Xtrain, ytrain, Xtest, ytest=do_classify(clflog, parameters, df, ['Height','Weight'],'Gender', \"Male\", mode=\"mask\", reuse_split=mask)"
   ]
  },
  {
   "cell_type": "markdown",
   "metadata": {},
   "source": [
    "In `sklearn`, `clf.predict(test_data)` makes predictions on the assumption that a 0.5 probability threshold is the appropriate thing to do. Make predictions on the test set"
   ]
  },
  {
   "cell_type": "code",
   "execution_count": 20,
   "metadata": {},
   "outputs": [
    {
     "data": {
      "text/plain": [
       "array([0, 0, 1, 1, 1, 0, 1, 1, 1, 0, 1, 0, 0, 1, 1, 1, 0, 0, 1, 1, 1, 1,\n",
       "       1, 1, 0, 0, 0, 1, 1, 1, 1, 1, 0, 1, 1, 1, 0, 0, 1, 1, 0, 1, 1, 1,\n",
       "       0, 1, 0, 1, 0, 0, 0, 0, 1, 1, 1, 1, 0, 1, 0, 1, 1, 1, 0, 1, 1, 0,\n",
       "       1, 0, 1, 0, 1, 0, 1, 0, 0, 1, 0, 1, 0, 0, 1, 1, 1, 0, 1, 0, 1, 1,\n",
       "       0, 0, 0, 1, 0, 1, 0, 1, 1, 0, 1, 0, 1, 1, 1, 1, 1, 0, 0, 1, 1, 1,\n",
       "       1, 0, 1, 1, 1, 0, 1, 0, 1, 0, 0, 0, 0, 0, 0, 0, 0, 0, 1, 0, 0, 0,\n",
       "       0, 0, 1, 0, 0, 1, 1, 1, 0, 0, 1, 0, 0, 1, 1, 0, 1, 1, 1, 1, 1, 1,\n",
       "       1, 1, 1, 0, 1, 0, 1, 0, 1, 1, 0, 1, 1, 1, 1, 1, 1, 0, 1, 1, 1, 0,\n",
       "       0, 1, 0, 0, 0, 0, 1, 0, 1, 0, 0, 1, 1, 0, 0, 0, 0, 0, 0, 1, 1, 1,\n",
       "       0, 0])"
      ]
     },
     "execution_count": 20,
     "metadata": {},
     "output_type": "execute_result"
    }
   ],
   "source": [
    "# your code here\n",
    "clflog.predict(Xtest)"
   ]
  },
  {
   "cell_type": "markdown",
   "metadata": {},
   "source": [
    "In `sklearn`, `predict_proba` gives us the probabilities. Find the probabilities on the test set."
   ]
  },
  {
   "cell_type": "code",
   "execution_count": 21,
   "metadata": {},
   "outputs": [
    {
     "data": {
      "text/plain": [
       "array([[9.53921616e-01, 4.60783841e-02],\n",
       "       [8.74795975e-01, 1.25204025e-01],\n",
       "       [7.81625735e-04, 9.99218374e-01],\n",
       "       [3.41032762e-01, 6.58967238e-01],\n",
       "       [1.71515524e-01, 8.28484476e-01],\n",
       "       [9.65642696e-01, 3.43573044e-02],\n",
       "       [4.64661897e-02, 9.53533810e-01],\n",
       "       [1.65098110e-03, 9.98349019e-01],\n",
       "       [3.49234632e-01, 6.50765368e-01],\n",
       "       [9.98608501e-01, 1.39149925e-03],\n",
       "       [6.28425971e-02, 9.37157403e-01],\n",
       "       [9.38544720e-01, 6.14552805e-02],\n",
       "       [9.93296521e-01, 6.70347861e-03],\n",
       "       [1.70585704e-01, 8.29414296e-01],\n",
       "       [5.03285106e-03, 9.94967149e-01],\n",
       "       [2.72264342e-02, 9.72773566e-01],\n",
       "       [7.73080131e-01, 2.26919869e-01],\n",
       "       [9.98357951e-01, 1.64204914e-03],\n",
       "       [3.40925433e-03, 9.96590746e-01],\n",
       "       [2.94329005e-02, 9.70567100e-01],\n",
       "       [4.93842389e-01, 5.06157611e-01],\n",
       "       [7.26295354e-02, 9.27370465e-01],\n",
       "       [2.57818575e-01, 7.42181425e-01],\n",
       "       [1.23784449e-01, 8.76215551e-01],\n",
       "       [9.91878580e-01, 8.12141966e-03],\n",
       "       [9.93916570e-01, 6.08342961e-03],\n",
       "       [5.96819806e-01, 4.03180194e-01],\n",
       "       [1.20240454e-01, 8.79759546e-01],\n",
       "       [3.00195631e-01, 6.99804369e-01],\n",
       "       [8.78244455e-03, 9.91217555e-01],\n",
       "       [3.77474532e-01, 6.22525468e-01],\n",
       "       [2.10048853e-04, 9.99789951e-01],\n",
       "       [6.57438801e-01, 3.42561199e-01],\n",
       "       [4.05576045e-02, 9.59442395e-01],\n",
       "       [6.13642696e-02, 9.38635730e-01],\n",
       "       [3.66810860e-02, 9.63318914e-01],\n",
       "       [7.05474557e-01, 2.94525443e-01],\n",
       "       [9.37342358e-01, 6.26576419e-02],\n",
       "       [4.22301852e-04, 9.99577698e-01],\n",
       "       [1.39034785e-01, 8.60965215e-01],\n",
       "       [9.98606321e-01, 1.39367900e-03],\n",
       "       [5.46364005e-03, 9.94536360e-01],\n",
       "       [2.06722953e-02, 9.79327705e-01],\n",
       "       [1.52676000e-01, 8.47324000e-01],\n",
       "       [9.51182342e-01, 4.88176581e-02],\n",
       "       [3.60348171e-02, 9.63965183e-01],\n",
       "       [9.97618575e-01, 2.38142503e-03],\n",
       "       [3.64435709e-03, 9.96355643e-01],\n",
       "       [6.60014760e-01, 3.39985240e-01],\n",
       "       [7.01696277e-01, 2.98303723e-01],\n",
       "       [9.83590370e-01, 1.64096300e-02],\n",
       "       [7.67678085e-01, 2.32321915e-01],\n",
       "       [6.55653933e-03, 9.93443461e-01],\n",
       "       [3.58837661e-01, 6.41162339e-01],\n",
       "       [5.53582846e-02, 9.44641715e-01],\n",
       "       [5.99579879e-04, 9.99400420e-01],\n",
       "       [6.47971338e-01, 3.52028662e-01],\n",
       "       [3.68208505e-03, 9.96317915e-01],\n",
       "       [7.48417823e-01, 2.51582177e-01],\n",
       "       [6.51523656e-02, 9.34847634e-01],\n",
       "       [7.22029711e-03, 9.92779703e-01],\n",
       "       [1.26495937e-01, 8.73504063e-01],\n",
       "       [9.99204666e-01, 7.95333762e-04],\n",
       "       [1.69771984e-02, 9.83022802e-01],\n",
       "       [1.99616255e-01, 8.00383745e-01],\n",
       "       [9.96387737e-01, 3.61226343e-03],\n",
       "       [5.04345290e-03, 9.94956547e-01],\n",
       "       [9.96702160e-01, 3.29784010e-03],\n",
       "       [3.83592436e-01, 6.16407564e-01],\n",
       "       [9.66125114e-01, 3.38748859e-02],\n",
       "       [1.04002577e-01, 8.95997423e-01],\n",
       "       [8.55200556e-01, 1.44799444e-01],\n",
       "       [7.44522489e-02, 9.25547751e-01],\n",
       "       [9.99635456e-01, 3.64543943e-04],\n",
       "       [9.78584374e-01, 2.14156263e-02],\n",
       "       [4.96944344e-02, 9.50305566e-01],\n",
       "       [5.34496296e-01, 4.65503704e-01],\n",
       "       [9.62987268e-02, 9.03701273e-01],\n",
       "       [9.43048613e-01, 5.69513873e-02],\n",
       "       [9.97522145e-01, 2.47785452e-03],\n",
       "       [9.78500141e-02, 9.02149986e-01],\n",
       "       [4.64085029e-05, 9.99953591e-01],\n",
       "       [4.85380682e-01, 5.14619318e-01],\n",
       "       [5.86710155e-01, 4.13289845e-01],\n",
       "       [3.32477580e-03, 9.96675224e-01],\n",
       "       [7.01841895e-01, 2.98158105e-01],\n",
       "       [6.00995225e-04, 9.99399005e-01],\n",
       "       [8.09870056e-03, 9.91901299e-01],\n",
       "       [5.96144303e-01, 4.03855697e-01],\n",
       "       [6.97619865e-01, 3.02380135e-01],\n",
       "       [9.86572794e-01, 1.34272059e-02],\n",
       "       [4.30954230e-02, 9.56904577e-01],\n",
       "       [9.54772864e-01, 4.52271361e-02],\n",
       "       [2.70883849e-01, 7.29116151e-01],\n",
       "       [9.24552407e-01, 7.54475926e-02],\n",
       "       [4.37027578e-02, 9.56297242e-01],\n",
       "       [2.31246132e-04, 9.99768754e-01],\n",
       "       [9.41122709e-01, 5.88772907e-02],\n",
       "       [3.74861680e-01, 6.25138320e-01],\n",
       "       [8.05115829e-01, 1.94884171e-01],\n",
       "       [1.75373837e-01, 8.24626163e-01],\n",
       "       [6.67628752e-02, 9.33237125e-01],\n",
       "       [1.09748200e-03, 9.98902518e-01],\n",
       "       [3.70630667e-01, 6.29369333e-01],\n",
       "       [2.16007302e-03, 9.97839927e-01],\n",
       "       [5.84797652e-01, 4.15202348e-01],\n",
       "       [6.58079164e-01, 3.41920836e-01],\n",
       "       [2.80133943e-03, 9.97198661e-01],\n",
       "       [1.84899535e-02, 9.81510046e-01],\n",
       "       [5.00227723e-02, 9.49977228e-01],\n",
       "       [6.57387681e-02, 9.34261232e-01],\n",
       "       [9.86802153e-01, 1.31978470e-02],\n",
       "       [1.51623799e-01, 8.48376201e-01],\n",
       "       [3.44843696e-02, 9.65515630e-01],\n",
       "       [2.60331899e-01, 7.39668101e-01],\n",
       "       [7.75337004e-01, 2.24662996e-01],\n",
       "       [4.35836268e-02, 9.56416373e-01],\n",
       "       [9.97926390e-01, 2.07361026e-03],\n",
       "       [1.75065122e-04, 9.99824935e-01],\n",
       "       [8.10174384e-01, 1.89825616e-01],\n",
       "       [9.92811839e-01, 7.18816073e-03],\n",
       "       [9.83227861e-01, 1.67721388e-02],\n",
       "       [8.34809368e-01, 1.65190632e-01],\n",
       "       [9.63892990e-01, 3.61070101e-02],\n",
       "       [9.15178466e-01, 8.48215337e-02],\n",
       "       [9.97728591e-01, 2.27140861e-03],\n",
       "       [9.92690383e-01, 7.30961687e-03],\n",
       "       [9.87300305e-01, 1.26996954e-02],\n",
       "       [1.94098514e-02, 9.80590149e-01],\n",
       "       [7.79954387e-01, 2.20045613e-01],\n",
       "       [9.44509956e-01, 5.54900440e-02],\n",
       "       [9.95970047e-01, 4.02995288e-03],\n",
       "       [9.82061633e-01, 1.79383668e-02],\n",
       "       [9.88433765e-01, 1.15662354e-02],\n",
       "       [1.11240866e-02, 9.88875913e-01],\n",
       "       [9.95467200e-01, 4.53280018e-03],\n",
       "       [9.87089374e-01, 1.29106259e-02],\n",
       "       [4.87172406e-02, 9.51282759e-01],\n",
       "       [2.13484034e-02, 9.78651597e-01],\n",
       "       [1.01528021e-02, 9.89847198e-01],\n",
       "       [6.68249817e-01, 3.31750183e-01],\n",
       "       [9.51097646e-01, 4.89023540e-02],\n",
       "       [2.60273955e-02, 9.73972604e-01],\n",
       "       [8.76168452e-01, 1.23831548e-01],\n",
       "       [9.49228143e-01, 5.07718575e-02],\n",
       "       [8.26458855e-02, 9.17354115e-01],\n",
       "       [2.18120822e-01, 7.81879178e-01],\n",
       "       [7.85471458e-01, 2.14528542e-01],\n",
       "       [7.62165826e-02, 9.23783417e-01],\n",
       "       [9.67776257e-03, 9.90322237e-01],\n",
       "       [2.67415149e-03, 9.97325849e-01],\n",
       "       [1.91962289e-01, 8.08037711e-01],\n",
       "       [3.10342711e-02, 9.68965729e-01],\n",
       "       [3.59648807e-02, 9.64035119e-01],\n",
       "       [1.20097125e-02, 9.87990288e-01],\n",
       "       [4.69695518e-01, 5.30304482e-01],\n",
       "       [2.29162458e-02, 9.77083754e-01],\n",
       "       [6.80832740e-01, 3.19167260e-01],\n",
       "       [4.86511361e-01, 5.13488639e-01],\n",
       "       [9.84204161e-01, 1.57958386e-02],\n",
       "       [8.65511179e-02, 9.13448882e-01],\n",
       "       [6.97498193e-01, 3.02501807e-01],\n",
       "       [2.19965344e-03, 9.97800347e-01],\n",
       "       [2.95584819e-02, 9.70441518e-01],\n",
       "       [9.18766866e-01, 8.12331338e-02],\n",
       "       [1.30099012e-02, 9.86990099e-01],\n",
       "       [6.81714355e-05, 9.99931829e-01],\n",
       "       [1.06729714e-01, 8.93270286e-01],\n",
       "       [6.06448547e-02, 9.39355145e-01],\n",
       "       [1.35762092e-02, 9.86423791e-01],\n",
       "       [1.75484666e-01, 8.24515334e-01],\n",
       "       [9.91905308e-01, 8.09469239e-03],\n",
       "       [4.66693686e-03, 9.95333063e-01],\n",
       "       [4.29886219e-01, 5.70113781e-01],\n",
       "       [1.35306843e-02, 9.86469316e-01],\n",
       "       [8.71891172e-01, 1.28108828e-01],\n",
       "       [9.39686143e-01, 6.03138570e-02],\n",
       "       [2.38521310e-02, 9.76147869e-01],\n",
       "       [9.00681344e-01, 9.93186563e-02],\n",
       "       [7.97700300e-01, 2.02299700e-01],\n",
       "       [9.27201276e-01, 7.27987239e-02],\n",
       "       [9.97222246e-01, 2.77775377e-03],\n",
       "       [8.73995798e-03, 9.91260042e-01],\n",
       "       [9.05596405e-01, 9.44035955e-02],\n",
       "       [1.97060702e-02, 9.80293930e-01],\n",
       "       [6.66282282e-01, 3.33717718e-01],\n",
       "       [9.96161298e-01, 3.83870157e-03],\n",
       "       [2.74912900e-01, 7.25087100e-01],\n",
       "       [4.76128906e-01, 5.23871094e-01],\n",
       "       [9.84615165e-01, 1.53848352e-02],\n",
       "       [5.64852565e-01, 4.35147435e-01],\n",
       "       [8.10582088e-01, 1.89417912e-01],\n",
       "       [6.25110456e-01, 3.74889544e-01],\n",
       "       [8.55781329e-01, 1.44218671e-01],\n",
       "       [7.85624035e-01, 2.14375965e-01],\n",
       "       [3.53211533e-01, 6.46788467e-01],\n",
       "       [3.97661238e-01, 6.02338762e-01],\n",
       "       [1.78328168e-03, 9.98216718e-01],\n",
       "       [8.40496683e-01, 1.59503317e-01],\n",
       "       [9.48354639e-01, 5.16453607e-02]])"
      ]
     },
     "execution_count": 21,
     "metadata": {},
     "output_type": "execute_result"
    }
   ],
   "source": [
    "clflog.predict_proba(Xtest)"
   ]
  },
  {
   "cell_type": "markdown",
   "metadata": {},
   "source": [
    "What do these probabilities correspond to? The second column (`[:,1]` in numpy parlance, google numpy indexing to understand the syntax) gives the probability that the sample is a 1 (or +ive), here Male.\n",
    "\n",
    "Make a histogram of these probabilities. Interpret them."
   ]
  },
  {
   "cell_type": "code",
   "execution_count": 22,
   "metadata": {},
   "outputs": [
    {
     "data": {
      "image/png": "[encoded data removed]",
      "text/plain": [
       "<Figure size 432x288 with 1 Axes>"
      ]
     },
     "metadata": {
      "needs_background": "light"
     },
     "output_type": "display_data"
    }
   ],
   "source": [
    "# your code here\n",
    "plt.hist(clflog.predict_proba(Xtest)[:,1]*100);"
   ]
  },
  {
   "cell_type": "markdown",
   "metadata": {},
   "source": [
    "Lots of sure females and sure males when you plot the probability of being a male. \n",
    "\n",
    "At this point you might want to see how this histogram looks in the 2 dimensional space of our predictors."
   ]
  },
  {
   "cell_type": "code",
   "execution_count": 23,
   "metadata": {},
   "outputs": [
    {
     "data": {
      "image/png": "[encoded data removed]",
      "text/plain": [
       "<Figure size 432x288 with 1 Axes>"
      ]
     },
     "metadata": {
      "needs_background": "light"
     },
     "output_type": "display_data"
    }
   ],
   "source": [
    "Xtr=np.concatenate((Xtrain, Xtest))\n",
    "plt.figure()\n",
    "ax=plt.gca()\n",
    "with sns.plotting_context('poster'):\n",
    "    points_plot(ax, Xtrain, Xtest, ytrain, ytest, clflog);"
   ]
  },
  {
   "cell_type": "markdown",
   "metadata": {},
   "source": [
    "We can plot the probability contours: these are rather tight!"
   ]
  },
  {
   "cell_type": "code",
   "execution_count": 24,
   "metadata": {},
   "outputs": [
    {
     "name": "stderr",
     "output_type": "stream",
     "text": [
      "C:\\ProgramData\\Anaconda3\\lib\\site-packages\\ipykernel_launcher.py:8: UserWarning: The following kwargs were not used by contour: 'axes'\n",
      "  \n",
      "C:\\ProgramData\\Anaconda3\\lib\\site-packages\\ipykernel_launcher.py:9: UserWarning: The following kwargs were not used by contour: 'axes'\n",
      "  if __name__ == '__main__':\n"
     ]
    },
    {
     "data": {
      "image/png": "[encoded data removed]",
      "text/plain": [
       "<Figure size 432x288 with 1 Axes>"
      ]
     },
     "metadata": {
      "needs_background": "light"
     },
     "output_type": "display_data"
    }
   ],
   "source": [
    "plt.figure()\n",
    "ax=plt.gca()\n",
    "points_plot(ax, Xtrain, Xtest, ytrain, ytest, clflog, mesh=False, alpha=0.001);\n",
    "points_plot_prob(ax, Xtrain, Xtest, ytrain, ytest, clflog);"
   ]
  },
  {
   "cell_type": "markdown",
   "metadata": {},
   "source": [
    "The score function of the estimator is used to evaluate a parameter setting. These are the sklearn.metrics.accuracy_score for classification and sklearn.metrics.r2_score for regression. For some applications, other scoring functions are better suited (for example in unbalanced classification, the accuracy score is often uninformative). We can pass other scorers to `GridSearchCV`."
   ]
  },
  {
   "cell_type": "code",
   "execution_count": 25,
   "metadata": {},
   "outputs": [
    {
     "data": {
      "text/plain": [
       "0.875"
      ]
     },
     "execution_count": 25,
     "metadata": {},
     "output_type": "execute_result"
    }
   ],
   "source": [
    "clflog.score(Xtest, ytest)"
   ]
  },
  {
   "cell_type": "markdown",
   "metadata": {},
   "source": [
    "## The confusion Matrix"
   ]
  },
  {
   "cell_type": "markdown",
   "metadata": {},
   "source": [
    " A classifier will get some samples right, and some wrong. Generally we see which ones it gets right and which ones it gets wrong on the test set. There,\n",
    "\n",
    "- the samples that are +ive and the classifier predicts as +ive are called True Positives (TP)\n",
    "- the samples that are -ive and the classifier predicts (wrongly) as +ive are called False Positives (FP)\n",
    "- the samples that are -ive and the classifier predicts as -ive are called True Negatives (TN)\n",
    "- the samples that are +ive and the classifier predicts as -ive are called False Negatives (FN)\n",
    "\n",
    "A classifier produces a confusion matrix from these which lookslike this:\n",
    "\n",
    "![hwimages](./images/confusionmatrix.png)\n",
    "\n",
    "\n",
    "IMPORTANT NOTE: In sklearn, to obtain the confusion matrix in the form above, always have the observed `y` first, i.e.: use as `confusion_matrix(y_true, y_pred)`"
   ]
  },
  {
   "cell_type": "code",
   "execution_count": 26,
   "metadata": {},
   "outputs": [
    {
     "data": {
      "text/plain": [
       "array([[79, 14],\n",
       "       [11, 96]], dtype=int64)"
      ]
     },
     "execution_count": 26,
     "metadata": {},
     "output_type": "execute_result"
    }
   ],
   "source": [
    "confusion_matrix(ytest, clflog.predict(Xtest))"
   ]
  },
  {
   "cell_type": "markdown",
   "metadata": {},
   "source": [
    "Given these definitions, we typically calculate a few metrics for our classifier. First, the **True Positive Rate**:\n",
    "\n",
    "$$TPR = Recall = \\frac{TP}{OP} = \\frac{TP}{TP+FN},$$\n",
    "\n",
    "also called the Hit Rate: the fraction of observed positives (1s) the classifier gets right, or how many true positives were recalled. Maximizing the recall towards 1 means keeping down the false negative rate. In a classifier try to find cancer patients, this is the number we want to maximize.\n",
    "\n",
    "The **False Positive Rate** is defined as\n",
    "\n",
    "$$FPR = \\frac{FP}{ON} = \\frac{FP}{FP+TN},$$\n",
    "\n",
    "also called the False Alarm Rate, the fraction of observed negatives (0s) the classifier gets wrong. In general, you want this number to be low. Instead, you might want to maximize the\n",
    "**Precision**,which tells you how many of the predicted positive(1) hits were truly positive\n",
    "\n",
    "$$Precision = \\frac{TP}{PP} = \\frac{TP}{TP+FP}.$$\n",
    "\n",
    "Finally the **F1** score gives us the Harmonic Score of Precision and Recall. Many analysts will try and find a classifier that maximizes this score, since it tries to minimize both false positives and false negatives simultaneously, and is thus a bit more precise in what it is trying to do than the accuracy.\n",
    "\n",
    "$$F1 =  \\frac{2*Recall*Precision}{Recall + Precision}$$\n",
    "\n",
    "However, in a case like that of a cancer classifier, we will wish to minimize false nagatives at the expense of false positives: it is ok to send perfectly healthy patients for cancer folloup if that is the price we must pay for not missing any sick ones.\n",
    "\n",
    "`scikit-learn` helpfully gives us a classification report with all these numbers"
   ]
  },
  {
   "cell_type": "code",
   "execution_count": 27,
   "metadata": {},
   "outputs": [
    {
     "name": "stdout",
     "output_type": "stream",
     "text": [
      "              precision    recall  f1-score   support\n",
      "\n",
      "           0       0.88      0.85      0.86        93\n",
      "           1       0.87      0.90      0.88       107\n",
      "\n",
      "    accuracy                           0.88       200\n",
      "   macro avg       0.88      0.87      0.87       200\n",
      "weighted avg       0.88      0.88      0.87       200\n",
      "\n"
     ]
    }
   ],
   "source": [
    "from sklearn.metrics import classification_report\n",
    "print(classification_report(ytest, clflog.predict(Xtest)))"
   ]
  },
  {
   "cell_type": "markdown",
   "metadata": {},
   "source": [
    "#### The cancer doctor\n",
    "\n",
    "Do you really want to be setting a threshold of 0.5 probability to predict if a patient has cancer or not? The false negative problem: ie the chance you predict someone dosent have cancer who has cancer is much higher for such a threshold. You could kill someone by telling them not to get a biopsy. Why not play it safe and assume a much lower threshold: for eg, if the probability of 1(cancer) is greater than 0.05, we'll call it a 1.\n",
    "\n",
    "Write a function `t_repredict(est,t, Xtest)` which takes your classifier, a probability threshold, and a  features set in the canonical form, and returns a set of predictions."
   ]
  },
  {
   "cell_type": "code",
   "execution_count": 28,
   "metadata": {},
   "outputs": [],
   "source": [
    "# your code here\n",
    "def t_repredict(est,t, Xtest):\n",
    "    probs=est.predict_proba(Xtest)\n",
    "    p0 = probs[:,0]\n",
    "    p1 = probs[:,1]\n",
    "    ypred = (p1 > t)*1\n",
    "    return ypred"
   ]
  },
  {
   "cell_type": "code",
   "execution_count": 30,
   "metadata": {},
   "outputs": [],
   "source": [
    "def t_repredict(clf,t, Xtest):\n",
    "    1*(clf.predict_proba(Xtest)[:,1] >= t)\n",
    "    return 1*(clf.predict_proba(Xtest)[:,1] >= t)\n",
    "    \n"
   ]
  },
  {
   "cell_type": "code",
   "execution_count": 42,
   "metadata": {},
   "outputs": [
    {
     "data": {
      "text/plain": [
       "array([[ 47,  46],\n",
       "       [  0, 107]], dtype=int64)"
      ]
     },
     "execution_count": 42,
     "metadata": {},
     "output_type": "execute_result"
    }
   ],
   "source": [
    "confusion_matrix(ytest,t_repredict(clflog,0.072,Xtest))"
   ]
  },
  {
   "cell_type": "markdown",
   "metadata": {},
   "source": [
    "Print the confusion matrix to see how the false negatives get suppressed?"
   ]
  },
  {
   "cell_type": "code",
   "execution_count": 29,
   "metadata": {},
   "outputs": [
    {
     "data": {
      "text/plain": [
       "array([[ 52,  41],\n",
       "       [  1, 106]], dtype=int64)"
      ]
     },
     "execution_count": 29,
     "metadata": {},
     "output_type": "execute_result"
    }
   ],
   "source": [
    "# your code here\n",
    "confusion_matrix(ytest, t_repredict(clflog, 0.1, Xtest))"
   ]
  },
  {
   "cell_type": "code",
   "execution_count": 43,
   "metadata": {},
   "outputs": [
    {
     "data": {
      "text/plain": [
       "array([[93,  0],\n",
       "       [32, 75]], dtype=int64)"
      ]
     },
     "execution_count": 43,
     "metadata": {},
     "output_type": "execute_result"
    }
   ],
   "source": [
    "confusion_matrix(ytest,t_repredict(clflog,0.9,Xtest))"
   ]
  },
  {
   "cell_type": "code",
   "execution_count": null,
   "metadata": {},
   "outputs": [],
   "source": []
  }
 ],
 "metadata": {
  "kernelspec": {
   "display_name": "Python 3",
   "language": "python",
   "name": "python3"
  },
  "language_info": {
   "codemirror_mode": {
    "name": "ipython",
    "version": 3
   },
   "file_extension": ".py",
   "mimetype": "text/x-python",
   "name": "python",
   "nbconvert_exporter": "python",
   "pygments_lexer": "ipython3",
   "version": "3.7.3"
  }
 },
 "nbformat": 4,
 "nbformat_minor": 2
}
